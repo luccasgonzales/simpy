{
 "cells": [
  {
   "cell_type": "markdown",
   "execution_count": 1,
   "metadata": {},
   "outputs": [
    {
     "ename": "SyntaxError",
     "evalue": "invalid syntax (<ipython-input-1-085b31402391>, line 1)",
     "output_type": "error",
     "traceback": [
      "\u001b[1;36m  File \u001b[1;32m\"<ipython-input-1-085b31402391>\"\u001b[1;36m, line \u001b[1;32m1\u001b[0m\n\u001b[1;33m    Exemplo carro a combustão\u001b[0m\n\u001b[1;37m                ^\u001b[0m\n\u001b[1;31mSyntaxError\u001b[0m\u001b[1;31m:\u001b[0m invalid syntax\n"
     ]
    }
   ],
   "source": [
    "1) Exemplo introdutório carro a combustão"
   ]
  },
  {
   "cell_type": "code",
   "execution_count": 1,
   "metadata": {},
   "outputs": [],
   "source": [
    "def car (env):\n",
    "    while True:\n",
    "        print(f'Começou a estacionar em %ds' % env.now)\n",
    "        tempo_estacionar = 10\n",
    "        yield env.timeout(tempo_estacionar)\n",
    "        print(f'Começou a dirigir em %ds' % env.now)\n",
    "        tempo_dirigindo = 3\n",
    "        yield env.timeout(tempo_dirigindo)"
   ]
  },
  {
   "cell_type": "code",
   "execution_count": 2,
   "metadata": {},
   "outputs": [
    {
     "name": "stdout",
     "output_type": "stream",
     "text": "Começou a estacionar em 0s\nComeçou a dirigir em 10s\nComeçou a estacionar em 13s\n"
    }
   ],
   "source": [
    "import simpy\n",
    "env = simpy.Environment()\n",
    "env.process(car(env))\n",
    "env.run(until=15)"
   ]
  },
  {
   "cell_type": "markdown",
   "execution_count": null,
   "metadata": {},
   "outputs": [],
   "source": [
    "2) Exemplo introdutório com carro elétrico\n",
    "\n",
    "*object* é o argumento que está sendo passado na classe e o parâmetro *self* na função() irá receber essa instância."
   ]
  },
  {
   "cell_type": "code",
   "execution_count": 3,
   "metadata": {},
   "outputs": [],
   "source": [
    "class Car(object):\n",
    "    def __init__(self, env):\n",
    "        self.env = env\n",
    "        # Começa o processo run sempre que uma instância for criada.\n",
    "        self.action = env.process(self.run())\n",
    "\n",
    "    def run (self):\n",
    "        while True:\n",
    "            print('Estacionou e começou a carregar em %d s' % self.env.now)\n",
    "            tempo_carregando = 5\n",
    "            #Produzimos o processo que process () retorna \n",
    "            #para aguardar o término\n",
    "            yield self.env.process(self.charge(tempo_carregando))\n",
    "\n",
    "            #O processo de carregamento terminou e \n",
    "            #podemos dirigir novamente\n",
    "            print('Começou a dirigir em %d s' %self.env.now)\n",
    "            tempo_dirigindo = 2\n",
    "            yield self.env.timeout(tempo_dirigindo)\n",
    "\n",
    "    def charge (self, duration):\n",
    "        yield self.env.timeout(duration)\n",
    "            "
   ]
  },
  {
   "cell_type": "code",
   "execution_count": 4,
   "metadata": {},
   "outputs": [
    {
     "name": "stdout",
     "output_type": "stream",
     "text": "Estacionou e começou a carregar em 0 s\nComeçou a dirigir em 5 s\nEstacionou e começou a carregar em 7 s\nComeçou a dirigir em 12 s\nEstacionou e começou a carregar em 14 s\n"
    }
   ],
   "source": [
    "import simpy\n",
    "env = simpy.Environment()\n",
    "car = Car(env)\n",
    "env.run(until=15)"
   ]
  },
  {
   "cell_type": "markdown",
   "execution_count": null,
   "metadata": {},
   "outputs": [],
   "source": [
    "2.1) Interromper o processo: (Interrupt)"
   ]
  },
  {
   "cell_type": "code",
   "execution_count": 5,
   "metadata": {},
   "outputs": [],
   "source": [
    "def driver (env, car):\n",
    "    yield env.timeout(3)\n",
    "    car.action.interrupt()"
   ]
  },
  {
   "cell_type": "code",
   "execution_count": 6,
   "metadata": {},
   "outputs": [],
   "source": [
    "class Car(object):\n",
    "    def __init__(self, env):\n",
    "        self.env = env\n",
    "        self.action = env.process(self.run())\n",
    "\n",
    "    def run (self):\n",
    "        while True:\n",
    "            print('Estacionou e começou a carregar em %d s' % self.env.now)\n",
    "            tempo_carregando = 5\n",
    "            #O carregamento da bateria pode ser interrompido\n",
    "            try:\n",
    "                yield self.env.process(self.charge(tempo_carregando))\n",
    "            except simpy.Interrupt:\n",
    "                #Quando recebe o Interrupt, para de carregar\n",
    "                # e troca para o estado \"dirigindo\"\n",
    "                print('Foi interrompido. Espero que tenha carga suficiente')\n",
    "          \n",
    "            print('Começou a dirigir em %d s' %self.env.now)\n",
    "            tempo_dirigindo = 2\n",
    "            yield self.env.timeout(tempo_dirigindo)\n",
    "\n",
    "    def charge (self, duration):\n",
    "        yield self.env.timeout(duration)"
   ]
  },
  {
   "cell_type": "code",
   "execution_count": 7,
   "metadata": {},
   "outputs": [
    {
     "name": "stdout",
     "output_type": "stream",
     "text": "Estacionou e começou a carregar em 0 s\nFoi interrompido. Espero que tenha carga suficiente\nComeçou a dirigir em 3 s\nEstacionou e começou a carregar em 5 s\nComeçou a dirigir em 10 s\nEstacionou e começou a carregar em 12 s\n"
    }
   ],
   "source": [
    "import simpy\n",
    "env = simpy.Environment()\n",
    "car = Car(env)\n",
    "env.process(driver(env, car))\n",
    "env.run(until=15)"
   ]
  },
  {
   "cell_type": "markdown",
   "execution_count": null,
   "metadata": {},
   "outputs": [],
   "source": [
    "3) Recursos compartilhados: (Resource)"
   ]
  },
  {
   "cell_type": "code",
   "execution_count": 56,
   "metadata": {},
   "outputs": [],
   "source": [
    "def car (env, nome, bcs, tempo_dirigindo, tempo_carregando):\n",
    "    # Simula dirigindo até o posto de carregamento (bcs)\n",
    "    yield env.timeout(tempo_dirigindo)\n",
    "\n",
    "    # Solicita (request) uma das estações de carregamento\n",
    "    print('> %s chega em %d s' % (nome, env.now))\n",
    "    with bcs.request() as req:\n",
    "        yield req\n",
    "\n",
    "        # Carrega a bateria\n",
    "        print('>> %s começou a carregar em %s s' % (nome, env.now))\n",
    "        yield env.timeout (tempo_carregando)\n",
    "        print ('>>> %s saindo da estação em %d s' % (nome, env.now))\n"
   ]
  },
  {
   "cell_type": "markdown",
   "execution_count": null,
   "metadata": {},
   "outputs": [],
   "source": [
    "Um recurso (resource) precisa referenciar a um Environment e uma capacidade quando é criado:"
   ]
  },
  {
   "cell_type": "code",
   "execution_count": 57,
   "metadata": {},
   "outputs": [],
   "source": [
    "import simpy\n",
    "env = simpy.Environment()\n",
    "bcs = simpy.Resource(env, capacity = 2)"
   ]
  },
  {
   "cell_type": "markdown",
   "execution_count": null,
   "metadata": {},
   "outputs": [],
   "source": [
    "Agora, pode-se criar o processo \"car\" e passar nosso recurso, além de outros parâmetros:"
   ]
  },
  {
   "cell_type": "code",
   "execution_count": 60,
   "metadata": {},
   "outputs": [],
   "source": [
    "donos = ['Luccas', 'Victor', 'Giglio', 'Ernani']\n",
    "\n",
    "for i in range(len(donos)):\n",
    "    env.process(car(env, 'Carro do %s' % donos[i], bcs, i*2, 5))"
   ]
  },
  {
   "cell_type": "code",
   "execution_count": 61,
   "metadata": {},
   "outputs": [
    {
     "name": "stdout",
     "output_type": "stream",
     "text": "> Carro do Luccas chega em 12 s\n>> Carro do Luccas começou a carregar em 12 s\n> Carro do Victor chega em 14 s\n>> Carro do Victor começou a carregar em 14 s\n> Carro do Giglio chega em 16 s\n>>> Carro do Luccas saindo da estação em 17 s\n>> Carro do Giglio começou a carregar em 17 s\n> Carro do Ernani chega em 18 s\n>>> Carro do Victor saindo da estação em 19 s\n>> Carro do Ernani começou a carregar em 19 s\n>>> Carro do Giglio saindo da estação em 22 s\n>>> Carro do Ernani saindo da estação em 24 s\n"
    }
   ],
   "source": [
    "# Rodamos a simulação:\n",
    "env.run()"
   ]
  }
 ],
 "metadata": {
  "kernelspec": {
   "display_name": "Python 3",
   "language": "python",
   "name": "python3"
  },
  "language_info": {
   "codemirror_mode": {
    "name": "ipython",
    "version": 3
   },
   "file_extension": ".py",
   "mimetype": "text/x-python",
   "name": "python",
   "nbconvert_exporter": "python",
   "pygments_lexer": "ipython3",
   "version": "3.7.3"
  }
 },
 "nbformat": 4,
 "nbformat_minor": 2
}