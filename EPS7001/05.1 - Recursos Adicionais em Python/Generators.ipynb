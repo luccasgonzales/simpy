{
 "cells": [
  {
   "cell_type": "code",
   "execution_count": 0,
   "metadata": {
    "colab": {},
    "colab_type": "code",
    "id": "jWT54aDXtdxr"
   },
   "outputs": [],
   "source": [
    "def bla(n):\n",
    "    \n",
    "    for i in range(n):\n",
    "        j = i + 1\n",
    "        yield i, j\n",
    "        "
   ]
  },
  {
   "cell_type": "code",
   "execution_count": 0,
   "metadata": {
    "colab": {},
    "colab_type": "code",
    "id": "ZA-5bM4OufRX"
   },
   "outputs": [],
   "source": [
    "a = bla(10)"
   ]
  },
  {
   "cell_type": "code",
   "execution_count": 0,
   "metadata": {
    "colab": {},
    "colab_type": "code",
    "id": "9hrHPJSSug7N"
   },
   "outputs": [],
   "source": [
    "f = next(a)"
   ]
  },
  {
   "cell_type": "code",
   "execution_count": 15,
   "metadata": {
    "colab": {
     "base_uri": "https://localhost:8080/",
     "height": 34
    },
    "colab_type": "code",
    "executionInfo": {
     "elapsed": 733,
     "status": "ok",
     "timestamp": 1553800550333,
     "user": {
      "displayName": "Ricardo Giglio",
      "photoUrl": "https://lh5.googleusercontent.com/-XXIBh2ygfV8/AAAAAAAAAAI/AAAAAAAACow/_F01S43sUMI/s64/photo.jpg",
      "userId": "04936271787207920694"
     },
     "user_tz": 180
    },
    "id": "aUT2zdojustj",
    "outputId": "d1d29242-0b3d-4fd9-8dc3-8f078072d450"
   },
   "outputs": [
    {
     "data": {
      "text/plain": [
       "2"
      ]
     },
     "execution_count": 15,
     "metadata": {
      "tags": []
     },
     "output_type": "execute_result"
    }
   ],
   "source": [
    "len(f)"
   ]
  },
  {
   "cell_type": "markdown",
   "metadata": {
    "colab_type": "text",
    "id": "UQVwBBPKVMVi"
   },
   "source": [
    "# Como criar um ```generator``` em Python?\n",
    "\n",
    "É bastante simples criar um gerador em Python. É tão fácil como definir uma função normal com declaração ```yield``` em vez de uma declaração ```return```.\n",
    "\n",
    "Se uma função contiver pelo menos uma instrução ```yield``` (ela pode conter outras instruções ```yield``` ou ```return```), ela se torna um ```generator```. Tanto ```yield``` quanto ```return``` retornarão algum valor da função.\n",
    "\n",
    "A diferença é que, enquanto uma instrução ```return``` termina uma função inteiramente, a instrução ```yield``` interrompe a função salvando todos os seus estados e, posteriormente, continua a partir daí em chamadas sucessivas."
   ]
  },
  {
   "cell_type": "code",
   "execution_count": 1,
   "metadata": {
    "colab": {},
    "colab_type": "code",
    "id": "2kZSg2Y7TiTE"
   },
   "outputs": [],
   "source": [
    "def from_1_to_n(n):\n",
    "    a_list = []\n",
    "    for i in range(1, n + 1):\n",
    "        a_list.append(i)\n",
    "    return a_list"
   ]
  },
  {
   "cell_type": "code",
   "execution_count": 2,
   "metadata": {
    "colab": {
     "base_uri": "https://localhost:8080/",
     "height": 34
    },
    "colab_type": "code",
    "executionInfo": {
     "elapsed": 614,
     "status": "ok",
     "timestamp": 1553800251817,
     "user": {
      "displayName": "Ricardo Giglio",
      "photoUrl": "https://lh5.googleusercontent.com/-XXIBh2ygfV8/AAAAAAAAAAI/AAAAAAAACow/_F01S43sUMI/s64/photo.jpg",
      "userId": "04936271787207920694"
     },
     "user_tz": 180
    },
    "id": "rDDn_HldV0yJ",
    "outputId": "dd757dfe-29c4-42ee-ae2b-ebad7c8b16c4"
   },
   "outputs": [
    {
     "data": {
      "text/plain": [
       "[1, 2, 3, 4, 5]"
      ]
     },
     "execution_count": 2,
     "metadata": {},
     "output_type": "execute_result"
    }
   ],
   "source": [
    "from_1_to_n(5)"
   ]
  },
  {
   "cell_type": "code",
   "execution_count": 18,
   "metadata": {
    "colab": {},
    "colab_type": "code",
    "id": "_uDV2hZ3V2pM"
   },
   "outputs": [],
   "source": [
    "def from_1_to_n(n):\n",
    "    a_list = []\n",
    "    for i in range(1, n + 1):\n",
    "        return i"
   ]
  },
  {
   "cell_type": "code",
   "execution_count": 19,
   "metadata": {
    "colab": {
     "base_uri": "https://localhost:8080/",
     "height": 34
    },
    "colab_type": "code",
    "executionInfo": {
     "elapsed": 892,
     "status": "ok",
     "timestamp": 1553800261540,
     "user": {
      "displayName": "Ricardo Giglio",
      "photoUrl": "https://lh5.googleusercontent.com/-XXIBh2ygfV8/AAAAAAAAAAI/AAAAAAAACow/_F01S43sUMI/s64/photo.jpg",
      "userId": "04936271787207920694"
     },
     "user_tz": 180
    },
    "id": "Mj0Rt3hn2Gzc",
    "outputId": "b246a2b4-411a-48df-b93e-e049f018feec"
   },
   "outputs": [
    {
     "data": {
      "text/plain": [
       "<function __main__.from_1_to_n(n)>"
      ]
     },
     "execution_count": 19,
     "metadata": {},
     "output_type": "execute_result"
    }
   ],
   "source": [
    "from_1_to_n"
   ]
  },
  {
   "cell_type": "code",
   "execution_count": 20,
   "metadata": {
    "colab": {
     "base_uri": "https://localhost:8080/",
     "height": 34
    },
    "colab_type": "code",
    "executionInfo": {
     "elapsed": 692,
     "status": "ok",
     "timestamp": 1553800262762,
     "user": {
      "displayName": "Ricardo Giglio",
      "photoUrl": "https://lh5.googleusercontent.com/-XXIBh2ygfV8/AAAAAAAAAAI/AAAAAAAACow/_F01S43sUMI/s64/photo.jpg",
      "userId": "04936271787207920694"
     },
     "user_tz": 180
    },
    "id": "8GjADYeeV9pZ",
    "outputId": "21d385a9-f5b6-4bf8-f4e6-7d9b58aabe9f"
   },
   "outputs": [
    {
     "data": {
      "text/plain": [
       "1"
      ]
     },
     "execution_count": 20,
     "metadata": {},
     "output_type": "execute_result"
    }
   ],
   "source": [
    "from_1_to_n(5)"
   ]
  },
  {
   "cell_type": "code",
   "execution_count": 21,
   "metadata": {
    "colab": {
     "base_uri": "https://localhost:8080/",
     "height": 35
    },
    "colab_type": "code",
    "executionInfo": {
     "elapsed": 637,
     "status": "ok",
     "timestamp": 1542192577776,
     "user": {
      "displayName": "Ricardo Giglio",
      "photoUrl": "https://lh5.googleusercontent.com/-XXIBh2ygfV8/AAAAAAAAAAI/AAAAAAAABeQ/Cqp9q6vwYC8/s64/photo.jpg",
      "userId": "04936271787207920694"
     },
     "user_tz": 120
    },
    "id": "RUUiOt-h1zTk",
    "outputId": "131fc45a-7713-4186-9cff-6eb5a3f7d249"
   },
   "outputs": [
    {
     "data": {
      "text/plain": [
       "1"
      ]
     },
     "execution_count": 21,
     "metadata": {},
     "output_type": "execute_result"
    }
   ],
   "source": [
    "from_1_to_n(5)"
   ]
  },
  {
   "cell_type": "code",
   "execution_count": 22,
   "metadata": {
    "colab": {},
    "colab_type": "code",
    "id": "p-lqPwDsV-pz"
   },
   "outputs": [],
   "source": [
    "def from_1_to_n(n):\n",
    "    a_list = []\n",
    "    for i in range(1, n + 1):\n",
    "        yield i"
   ]
  },
  {
   "cell_type": "code",
   "execution_count": 23,
   "metadata": {
    "colab": {
     "base_uri": "https://localhost:8080/",
     "height": 35
    },
    "colab_type": "code",
    "executionInfo": {
     "elapsed": 607,
     "status": "ok",
     "timestamp": 1542192640676,
     "user": {
      "displayName": "Ricardo Giglio",
      "photoUrl": "https://lh5.googleusercontent.com/-XXIBh2ygfV8/AAAAAAAAAAI/AAAAAAAABeQ/Cqp9q6vwYC8/s64/photo.jpg",
      "userId": "04936271787207920694"
     },
     "user_tz": 120
    },
    "id": "hhkzdIDjWBpD",
    "outputId": "51807d16-4523-49aa-dfab-59507ee9a81a"
   },
   "outputs": [
    {
     "data": {
      "text/plain": [
       "<generator object from_1_to_n at 0x000001D6085614F8>"
      ]
     },
     "execution_count": 23,
     "metadata": {},
     "output_type": "execute_result"
    }
   ],
   "source": [
    "from_1_to_n(5)"
   ]
  },
  {
   "cell_type": "code",
   "execution_count": 24,
   "metadata": {
    "colab": {
     "base_uri": "https://localhost:8080/",
     "height": 105
    },
    "colab_type": "code",
    "executionInfo": {
     "elapsed": 595,
     "status": "ok",
     "timestamp": 1542192702943,
     "user": {
      "displayName": "Ricardo Giglio",
      "photoUrl": "https://lh5.googleusercontent.com/-XXIBh2ygfV8/AAAAAAAAAAI/AAAAAAAABeQ/Cqp9q6vwYC8/s64/photo.jpg",
      "userId": "04936271787207920694"
     },
     "user_tz": 120
    },
    "id": "eGVdSb6nWDZH",
    "outputId": "12bb15b1-d996-4ca0-86f4-a61b06016988"
   },
   "outputs": [
    {
     "name": "stdout",
     "output_type": "stream",
     "text": [
      "1\n",
      "2\n",
      "3\n",
      "4\n",
      "5\n"
     ]
    }
   ],
   "source": [
    "a_generator = from_1_to_n(5)\n",
    "for i in a_generator:\n",
    "    print(i)"
   ]
  },
  {
   "cell_type": "code",
   "execution_count": 0,
   "metadata": {
    "colab": {},
    "colab_type": "code",
    "id": "Pmc_lyRdWHW4"
   },
   "outputs": [],
   "source": [
    "for i in a_generator:\n",
    "    print(i)"
   ]
  },
  {
   "cell_type": "code",
   "execution_count": 0,
   "metadata": {
    "colab": {},
    "colab_type": "code",
    "id": "FkalFZuCrWIb"
   },
   "outputs": [],
   "source": [
    "a_generator = from_1_to_n(5)"
   ]
  },
  {
   "cell_type": "code",
   "execution_count": 0,
   "metadata": {
    "colab": {
     "base_uri": "https://localhost:8080/",
     "height": 35
    },
    "colab_type": "code",
    "executionInfo": {
     "elapsed": 579,
     "status": "ok",
     "timestamp": 1542192858795,
     "user": {
      "displayName": "Ricardo Giglio",
      "photoUrl": "https://lh5.googleusercontent.com/-XXIBh2ygfV8/AAAAAAAAAAI/AAAAAAAABeQ/Cqp9q6vwYC8/s64/photo.jpg",
      "userId": "04936271787207920694"
     },
     "user_tz": 120
    },
    "id": "HjHIiIn_rV0T",
    "outputId": "bdcd0904-3ee9-4ede-b5ac-20d5e5849c81"
   },
   "outputs": [
    {
     "data": {
      "text/plain": [
       "1"
      ]
     },
     "execution_count": 21,
     "metadata": {
      "tags": []
     },
     "output_type": "execute_result"
    }
   ],
   "source": [
    "next(a_generator)"
   ]
  },
  {
   "cell_type": "code",
   "execution_count": 0,
   "metadata": {
    "colab": {
     "base_uri": "https://localhost:8080/",
     "height": 35
    },
    "colab_type": "code",
    "executionInfo": {
     "elapsed": 619,
     "status": "ok",
     "timestamp": 1542192860042,
     "user": {
      "displayName": "Ricardo Giglio",
      "photoUrl": "https://lh5.googleusercontent.com/-XXIBh2ygfV8/AAAAAAAAAAI/AAAAAAAABeQ/Cqp9q6vwYC8/s64/photo.jpg",
      "userId": "04936271787207920694"
     },
     "user_tz": 120
    },
    "id": "aLOKgkQ7reTG",
    "outputId": "c479b577-b90c-499f-be84-736fc273e25f"
   },
   "outputs": [
    {
     "data": {
      "text/plain": [
       "2"
      ]
     },
     "execution_count": 22,
     "metadata": {
      "tags": []
     },
     "output_type": "execute_result"
    }
   ],
   "source": [
    "next(a_generator)"
   ]
  },
  {
   "cell_type": "code",
   "execution_count": 0,
   "metadata": {
    "colab": {
     "base_uri": "https://localhost:8080/",
     "height": 35
    },
    "colab_type": "code",
    "executionInfo": {
     "elapsed": 939,
     "status": "ok",
     "timestamp": 1542192861076,
     "user": {
      "displayName": "Ricardo Giglio",
      "photoUrl": "https://lh5.googleusercontent.com/-XXIBh2ygfV8/AAAAAAAAAAI/AAAAAAAABeQ/Cqp9q6vwYC8/s64/photo.jpg",
      "userId": "04936271787207920694"
     },
     "user_tz": 120
    },
    "id": "-zhCp3yVreNm",
    "outputId": "ba2d9cd1-1569-4c99-eae2-d135c9ed538e"
   },
   "outputs": [
    {
     "data": {
      "text/plain": [
       "3"
      ]
     },
     "execution_count": 23,
     "metadata": {
      "tags": []
     },
     "output_type": "execute_result"
    }
   ],
   "source": [
    "next(a_generator)"
   ]
  },
  {
   "cell_type": "code",
   "execution_count": 0,
   "metadata": {
    "colab": {
     "base_uri": "https://localhost:8080/",
     "height": 35
    },
    "colab_type": "code",
    "executionInfo": {
     "elapsed": 698,
     "status": "ok",
     "timestamp": 1542192861881,
     "user": {
      "displayName": "Ricardo Giglio",
      "photoUrl": "https://lh5.googleusercontent.com/-XXIBh2ygfV8/AAAAAAAAAAI/AAAAAAAABeQ/Cqp9q6vwYC8/s64/photo.jpg",
      "userId": "04936271787207920694"
     },
     "user_tz": 120
    },
    "id": "WwBOwIcOreJi",
    "outputId": "5ccdfcaf-9a35-47d8-bde6-5ed85adf6807"
   },
   "outputs": [
    {
     "data": {
      "text/plain": [
       "4"
      ]
     },
     "execution_count": 24,
     "metadata": {
      "tags": []
     },
     "output_type": "execute_result"
    }
   ],
   "source": [
    "next(a_generator)"
   ]
  },
  {
   "cell_type": "code",
   "execution_count": 0,
   "metadata": {
    "colab": {
     "base_uri": "https://localhost:8080/",
     "height": 35
    },
    "colab_type": "code",
    "executionInfo": {
     "elapsed": 607,
     "status": "ok",
     "timestamp": 1542192863133,
     "user": {
      "displayName": "Ricardo Giglio",
      "photoUrl": "https://lh5.googleusercontent.com/-XXIBh2ygfV8/AAAAAAAAAAI/AAAAAAAABeQ/Cqp9q6vwYC8/s64/photo.jpg",
      "userId": "04936271787207920694"
     },
     "user_tz": 120
    },
    "id": "BhiG5AVvrd_S",
    "outputId": "4e3e27fb-4427-46ac-a9ea-b662c137dd71"
   },
   "outputs": [
    {
     "data": {
      "text/plain": [
       "5"
      ]
     },
     "execution_count": 25,
     "metadata": {
      "tags": []
     },
     "output_type": "execute_result"
    }
   ],
   "source": [
    "next(a_generator)"
   ]
  },
  {
   "cell_type": "code",
   "execution_count": 26,
   "metadata": {
    "colab": {
     "base_uri": "https://localhost:8080/",
     "height": 187
    },
    "colab_type": "code",
    "executionInfo": {
     "elapsed": 661,
     "status": "error",
     "timestamp": 1542192875400,
     "user": {
      "displayName": "Ricardo Giglio",
      "photoUrl": "https://lh5.googleusercontent.com/-XXIBh2ygfV8/AAAAAAAAAAI/AAAAAAAABeQ/Cqp9q6vwYC8/s64/photo.jpg",
      "userId": "04936271787207920694"
     },
     "user_tz": 120
    },
    "id": "DAESblG926L-",
    "outputId": "2248e66f-da7b-4581-81ae-f76ac4c0738c"
   },
   "outputs": [
    {
     "ename": "StopIteration",
     "evalue": "",
     "output_type": "error",
     "traceback": [
      "\u001b[1;31m---------------------------------------------------------------------------\u001b[0m",
      "\u001b[1;31mStopIteration\u001b[0m                             Traceback (most recent call last)",
      "\u001b[1;32m<ipython-input-26-b0210a923982>\u001b[0m in \u001b[0;36m<module>\u001b[1;34m\u001b[0m\n\u001b[1;32m----> 1\u001b[1;33m \u001b[0mnext\u001b[0m\u001b[1;33m(\u001b[0m\u001b[0ma_generator\u001b[0m\u001b[1;33m)\u001b[0m\u001b[1;33m\u001b[0m\u001b[1;33m\u001b[0m\u001b[0m\n\u001b[0m",
      "\u001b[1;31mStopIteration\u001b[0m: "
     ]
    }
   ],
   "source": [
    "next(a_generator)"
   ]
  },
  {
   "cell_type": "code",
   "execution_count": 27,
   "metadata": {
    "colab": {},
    "colab_type": "code",
    "id": "0L03rKFLWQZb"
   },
   "outputs": [],
   "source": [
    "def from_1_to_n(n):\n",
    "    for i in range(1, n + 1):\n",
    "        yield i\n",
    "        yield i ** 2"
   ]
  },
  {
   "cell_type": "code",
   "execution_count": 28,
   "metadata": {
    "colab": {
     "base_uri": "https://localhost:8080/",
     "height": 193
    },
    "colab_type": "code",
    "executionInfo": {
     "elapsed": 773,
     "status": "ok",
     "timestamp": 1542193044585,
     "user": {
      "displayName": "Ricardo Giglio",
      "photoUrl": "https://lh5.googleusercontent.com/-XXIBh2ygfV8/AAAAAAAAAAI/AAAAAAAABeQ/Cqp9q6vwYC8/s64/photo.jpg",
      "userId": "04936271787207920694"
     },
     "user_tz": 120
    },
    "id": "080hkus4Whfi",
    "outputId": "74768079-0153-4068-cfce-3a819abd7e73"
   },
   "outputs": [
    {
     "name": "stdout",
     "output_type": "stream",
     "text": [
      "1\n",
      "1\n",
      "2\n",
      "4\n",
      "3\n",
      "9\n",
      "4\n",
      "16\n",
      "5\n",
      "25\n"
     ]
    }
   ],
   "source": [
    "a_generator = from_1_to_n(5)\n",
    "for i in a_generator:\n",
    "    print(i)"
   ]
  },
  {
   "cell_type": "code",
   "execution_count": 29,
   "metadata": {
    "colab": {},
    "colab_type": "code",
    "id": "-tdYvcgXsKEb"
   },
   "outputs": [],
   "source": [
    "a_generator = from_1_to_n(5)"
   ]
  },
  {
   "cell_type": "code",
   "execution_count": 30,
   "metadata": {
    "colab": {
     "base_uri": "https://localhost:8080/",
     "height": 35
    },
    "colab_type": "code",
    "executionInfo": {
     "elapsed": 706,
     "status": "ok",
     "timestamp": 1542193069520,
     "user": {
      "displayName": "Ricardo Giglio",
      "photoUrl": "https://lh5.googleusercontent.com/-XXIBh2ygfV8/AAAAAAAAAAI/AAAAAAAABeQ/Cqp9q6vwYC8/s64/photo.jpg",
      "userId": "04936271787207920694"
     },
     "user_tz": 120
    },
    "id": "9NMPgT_OsZOY",
    "outputId": "a9df3ec4-3566-42bd-fdd1-9fc77fdda9be"
   },
   "outputs": [
    {
     "data": {
      "text/plain": [
       "1"
      ]
     },
     "execution_count": 30,
     "metadata": {},
     "output_type": "execute_result"
    }
   ],
   "source": [
    "a_generator.__next__()"
   ]
  },
  {
   "cell_type": "code",
   "execution_count": 31,
   "metadata": {
    "colab": {
     "base_uri": "https://localhost:8080/",
     "height": 35
    },
    "colab_type": "code",
    "executionInfo": {
     "elapsed": 607,
     "status": "ok",
     "timestamp": 1542193079215,
     "user": {
      "displayName": "Ricardo Giglio",
      "photoUrl": "https://lh5.googleusercontent.com/-XXIBh2ygfV8/AAAAAAAAAAI/AAAAAAAABeQ/Cqp9q6vwYC8/s64/photo.jpg",
      "userId": "04936271787207920694"
     },
     "user_tz": 120
    },
    "id": "4Eg-ERQ0sY3t",
    "outputId": "092661a3-188d-407b-8cd7-a84980077cfa"
   },
   "outputs": [
    {
     "data": {
      "text/plain": [
       "1"
      ]
     },
     "execution_count": 31,
     "metadata": {},
     "output_type": "execute_result"
    }
   ],
   "source": [
    "a_generator.__next__()"
   ]
  },
  {
   "cell_type": "code",
   "execution_count": 32,
   "metadata": {
    "colab": {
     "base_uri": "https://localhost:8080/",
     "height": 35
    },
    "colab_type": "code",
    "executionInfo": {
     "elapsed": 824,
     "status": "ok",
     "timestamp": 1542193080203,
     "user": {
      "displayName": "Ricardo Giglio",
      "photoUrl": "https://lh5.googleusercontent.com/-XXIBh2ygfV8/AAAAAAAAAAI/AAAAAAAABeQ/Cqp9q6vwYC8/s64/photo.jpg",
      "userId": "04936271787207920694"
     },
     "user_tz": 120
    },
    "id": "HpgGvdWvsYaQ",
    "outputId": "3ea1e56e-22eb-4694-9199-f8233bc64773"
   },
   "outputs": [
    {
     "data": {
      "text/plain": [
       "2"
      ]
     },
     "execution_count": 32,
     "metadata": {},
     "output_type": "execute_result"
    }
   ],
   "source": [
    "a_generator.__next__()"
   ]
  },
  {
   "cell_type": "code",
   "execution_count": 33,
   "metadata": {
    "colab": {
     "base_uri": "https://localhost:8080/",
     "height": 35
    },
    "colab_type": "code",
    "executionInfo": {
     "elapsed": 705,
     "status": "ok",
     "timestamp": 1542193080970,
     "user": {
      "displayName": "Ricardo Giglio",
      "photoUrl": "https://lh5.googleusercontent.com/-XXIBh2ygfV8/AAAAAAAAAAI/AAAAAAAABeQ/Cqp9q6vwYC8/s64/photo.jpg",
      "userId": "04936271787207920694"
     },
     "user_tz": 120
    },
    "id": "2O2Z95ZwsX6J",
    "outputId": "d4082b19-2cae-4ba7-fe8d-4b5d2cc49846"
   },
   "outputs": [
    {
     "data": {
      "text/plain": [
       "4"
      ]
     },
     "execution_count": 33,
     "metadata": {},
     "output_type": "execute_result"
    }
   ],
   "source": [
    "a_generator.__next__()"
   ]
  },
  {
   "cell_type": "code",
   "execution_count": 34,
   "metadata": {
    "colab": {
     "base_uri": "https://localhost:8080/",
     "height": 35
    },
    "colab_type": "code",
    "executionInfo": {
     "elapsed": 658,
     "status": "ok",
     "timestamp": 1542193085449,
     "user": {
      "displayName": "Ricardo Giglio",
      "photoUrl": "https://lh5.googleusercontent.com/-XXIBh2ygfV8/AAAAAAAAAAI/AAAAAAAABeQ/Cqp9q6vwYC8/s64/photo.jpg",
      "userId": "04936271787207920694"
     },
     "user_tz": 120
    },
    "id": "E_lnCpVUsLHN",
    "outputId": "37b62583-667d-41d3-dd7d-8e204460ed60"
   },
   "outputs": [
    {
     "data": {
      "text/plain": [
       "3"
      ]
     },
     "execution_count": 34,
     "metadata": {},
     "output_type": "execute_result"
    }
   ],
   "source": [
    "a_generator.__next__()"
   ]
  },
  {
   "cell_type": "markdown",
   "metadata": {
    "colab_type": "text",
    "id": "UYfZMtgWWw2L"
   },
   "source": [
    "# Diferenças entre a função ```generator``` e uma função normal\n",
    "\n",
    "Aqui está como uma função de ```generator``` difere de uma função normal.\n",
    "\n",
    " * A função ```generator``` contém uma ou mais declarações ```yield```.\n",
    " * Quando chamado, ele retorna um objeto (```iterator```), mas não inicia a execução imediatamente.\n",
    " * Depois que a função retorna, a função é pausada e o controle é transferido para quem a chamou.\n",
    " * As variáveis locais e seus estados são lembrados entre as chamadas sucessivas.\n",
    " * Finalmente, quando a função termina, ```StopIteration``` é gerado automaticamente em outras chamadas."
   ]
  },
  {
   "cell_type": "code",
   "execution_count": 35,
   "metadata": {
    "colab": {},
    "colab_type": "code",
    "id": "fQqir1B5WlZ9"
   },
   "outputs": [],
   "source": [
    "# Uma função generator simples\n",
    "def my_gen():\n",
    "    n = 1\n",
    "    print('Isso será impresso primeiro')\n",
    "    # funções generator tem declarações yield\n",
    "    yield n\n",
    "\n",
    "    n += 1\n",
    "    print('Isso será impresso em segundo')\n",
    "    yield n\n",
    "\n",
    "    n += 1\n",
    "    print('Isso será impresso por último')\n",
    "    yield n"
   ]
  },
  {
   "cell_type": "code",
   "execution_count": 36,
   "metadata": {
    "colab": {},
    "colab_type": "code",
    "id": "zkakt5-sXrv2"
   },
   "outputs": [],
   "source": [
    "a_gen = my_gen()"
   ]
  },
  {
   "cell_type": "code",
   "execution_count": 37,
   "metadata": {
    "colab": {
     "base_uri": "https://localhost:8080/",
     "height": 52
    },
    "colab_type": "code",
    "executionInfo": {
     "elapsed": 609,
     "status": "ok",
     "timestamp": 1542193209751,
     "user": {
      "displayName": "Ricardo Giglio",
      "photoUrl": "https://lh5.googleusercontent.com/-XXIBh2ygfV8/AAAAAAAAAAI/AAAAAAAABeQ/Cqp9q6vwYC8/s64/photo.jpg",
      "userId": "04936271787207920694"
     },
     "user_tz": 120
    },
    "id": "VBnCShP7Xue1",
    "outputId": "9807ffb1-097a-4806-be4f-e4cfd9b347a4"
   },
   "outputs": [
    {
     "name": "stdout",
     "output_type": "stream",
     "text": [
      "Isso será impresso primeiro\n"
     ]
    },
    {
     "data": {
      "text/plain": [
       "1"
      ]
     },
     "execution_count": 37,
     "metadata": {},
     "output_type": "execute_result"
    }
   ],
   "source": [
    "next(a_gen)"
   ]
  },
  {
   "cell_type": "code",
   "execution_count": 38,
   "metadata": {
    "colab": {
     "base_uri": "https://localhost:8080/",
     "height": 52
    },
    "colab_type": "code",
    "executionInfo": {
     "elapsed": 692,
     "status": "ok",
     "timestamp": 1542193221252,
     "user": {
      "displayName": "Ricardo Giglio",
      "photoUrl": "https://lh5.googleusercontent.com/-XXIBh2ygfV8/AAAAAAAAAAI/AAAAAAAABeQ/Cqp9q6vwYC8/s64/photo.jpg",
      "userId": "04936271787207920694"
     },
     "user_tz": 120
    },
    "id": "yISErHAvXwZL",
    "outputId": "e64b7b27-d554-47e4-d2d9-0403d5515a1c"
   },
   "outputs": [
    {
     "name": "stdout",
     "output_type": "stream",
     "text": [
      "Isso será impresso em segundo\n"
     ]
    },
    {
     "data": {
      "text/plain": [
       "2"
      ]
     },
     "execution_count": 38,
     "metadata": {},
     "output_type": "execute_result"
    }
   ],
   "source": [
    "next(a_gen)"
   ]
  },
  {
   "cell_type": "code",
   "execution_count": 39,
   "metadata": {
    "colab": {
     "base_uri": "https://localhost:8080/",
     "height": 52
    },
    "colab_type": "code",
    "executionInfo": {
     "elapsed": 756,
     "status": "ok",
     "timestamp": 1542193242387,
     "user": {
      "displayName": "Ricardo Giglio",
      "photoUrl": "https://lh5.googleusercontent.com/-XXIBh2ygfV8/AAAAAAAAAAI/AAAAAAAABeQ/Cqp9q6vwYC8/s64/photo.jpg",
      "userId": "04936271787207920694"
     },
     "user_tz": 120
    },
    "id": "p0v4UVjdYIwD",
    "outputId": "eff619e9-cdd9-42ef-859f-07450a878e3b"
   },
   "outputs": [
    {
     "name": "stdout",
     "output_type": "stream",
     "text": [
      "Isso será impresso por último\n"
     ]
    },
    {
     "data": {
      "text/plain": [
       "3"
      ]
     },
     "execution_count": 39,
     "metadata": {},
     "output_type": "execute_result"
    }
   ],
   "source": [
    "next(a_gen)"
   ]
  },
  {
   "cell_type": "code",
   "execution_count": 40,
   "metadata": {
    "colab": {
     "base_uri": "https://localhost:8080/",
     "height": 187
    },
    "colab_type": "code",
    "executionInfo": {
     "elapsed": 622,
     "status": "error",
     "timestamp": 1542193243985,
     "user": {
      "displayName": "Ricardo Giglio",
      "photoUrl": "https://lh5.googleusercontent.com/-XXIBh2ygfV8/AAAAAAAAAAI/AAAAAAAABeQ/Cqp9q6vwYC8/s64/photo.jpg",
      "userId": "04936271787207920694"
     },
     "user_tz": 120
    },
    "id": "E68lxI59YJLQ",
    "outputId": "9af27a1b-8908-4214-f9e9-08c24312a3fa"
   },
   "outputs": [
    {
     "ename": "StopIteration",
     "evalue": "",
     "output_type": "error",
     "traceback": [
      "\u001b[1;31m---------------------------------------------------------------------------\u001b[0m",
      "\u001b[1;31mStopIteration\u001b[0m                             Traceback (most recent call last)",
      "\u001b[1;32m<ipython-input-40-40156e81a617>\u001b[0m in \u001b[0;36m<module>\u001b[1;34m\u001b[0m\n\u001b[1;32m----> 1\u001b[1;33m \u001b[0mnext\u001b[0m\u001b[1;33m(\u001b[0m\u001b[0ma_gen\u001b[0m\u001b[1;33m)\u001b[0m\u001b[1;33m\u001b[0m\u001b[1;33m\u001b[0m\u001b[0m\n\u001b[0m",
      "\u001b[1;31mStopIteration\u001b[0m: "
     ]
    }
   ],
   "source": [
    "next(a_gen)"
   ]
  },
  {
   "cell_type": "markdown",
   "metadata": {
    "colab_type": "text",
    "id": "2r6Rp0tyYZVP"
   },
   "source": [
    "Uma coisa interessante a notar no exemplo acima é que o valor da variável n é lembrado entre cada chamada.\n",
    "\n",
    "Ao contrário das funções normais, as variáveis locais não são destruídas quando a função retorna. \n",
    "\n",
    "Além disso, o objeto gerador pode ser iterado apenas uma vez.\n",
    "\n",
    "Para reiniciar o processo, precisamos criar outro objeto gerador usando algo como a = my_gen().\n",
    "\n",
    "**Nota**: Uma última coisa a notar é que podemos usar ```generator``` com loops diretamente.\n",
    "\n",
    "Isso porque, um loop pega um ```iterator``` e itera sobre ele usando a função ```next()```. Ele termina automaticamente quando ```StopIteration``` é gerado."
   ]
  },
  {
   "cell_type": "code",
   "execution_count": 0,
   "metadata": {
    "colab": {},
    "colab_type": "code",
    "id": "y9xnDQcFYJpD"
   },
   "outputs": [],
   "source": [
    "a_gen = my_gen()"
   ]
  },
  {
   "cell_type": "code",
   "execution_count": 0,
   "metadata": {
    "colab": {
     "base_uri": "https://localhost:8080/",
     "height": 123
    },
    "colab_type": "code",
    "executionInfo": {
     "elapsed": 618,
     "status": "ok",
     "timestamp": 1542193322303,
     "user": {
      "displayName": "Ricardo Giglio",
      "photoUrl": "https://lh5.googleusercontent.com/-XXIBh2ygfV8/AAAAAAAAAAI/AAAAAAAABeQ/Cqp9q6vwYC8/s64/photo.jpg",
      "userId": "04936271787207920694"
     },
     "user_tz": 120
    },
    "id": "k6PIbt4HZAjl",
    "outputId": "27be704e-267c-4865-c044-fdf48bcc5498"
   },
   "outputs": [
    {
     "name": "stdout",
     "output_type": "stream",
     "text": [
      "Isso será impresso primeiro\n",
      "1\n",
      "Isso será impresso em segundo\n",
      "2\n",
      "Isso será impresso por último\n",
      "3\n"
     ]
    }
   ],
   "source": [
    "for i in a_gen:\n",
    "    print(i)"
   ]
  },
  {
   "cell_type": "code",
   "execution_count": 0,
   "metadata": {
    "colab": {},
    "colab_type": "code",
    "id": "MLjNj4a-ZCRf"
   },
   "outputs": [],
   "source": [
    "a_gen = my_gen()"
   ]
  },
  {
   "cell_type": "code",
   "execution_count": 0,
   "metadata": {
    "colab": {
     "base_uri": "https://localhost:8080/",
     "height": 70
    },
    "colab_type": "code",
    "executionInfo": {
     "elapsed": 728,
     "status": "ok",
     "timestamp": 1542193349368,
     "user": {
      "displayName": "Ricardo Giglio",
      "photoUrl": "https://lh5.googleusercontent.com/-XXIBh2ygfV8/AAAAAAAAAAI/AAAAAAAABeQ/Cqp9q6vwYC8/s64/photo.jpg",
      "userId": "04936271787207920694"
     },
     "user_tz": 120
    },
    "id": "uTzdvB6XZHE_",
    "outputId": "46e7259c-6988-4702-8415-c8c1acd27388"
   },
   "outputs": [
    {
     "name": "stdout",
     "output_type": "stream",
     "text": [
      "Isso será impresso primeiro\n",
      "Isso será impresso em segundo\n",
      "Isso será impresso por último\n"
     ]
    }
   ],
   "source": [
    "as_a_list = list(a_gen)"
   ]
  },
  {
   "cell_type": "code",
   "execution_count": 0,
   "metadata": {
    "colab": {
     "base_uri": "https://localhost:8080/",
     "height": 35
    },
    "colab_type": "code",
    "executionInfo": {
     "elapsed": 618,
     "status": "ok",
     "timestamp": 1542193360657,
     "user": {
      "displayName": "Ricardo Giglio",
      "photoUrl": "https://lh5.googleusercontent.com/-XXIBh2ygfV8/AAAAAAAAAAI/AAAAAAAABeQ/Cqp9q6vwYC8/s64/photo.jpg",
      "userId": "04936271787207920694"
     },
     "user_tz": 120
    },
    "id": "hAcK8FYdZJ5f",
    "outputId": "9786c7e4-33ec-4572-b4e3-e42e5d5eed69"
   },
   "outputs": [
    {
     "data": {
      "text/plain": [
       "[1, 2, 3]"
      ]
     },
     "execution_count": 45,
     "metadata": {
      "tags": []
     },
     "output_type": "execute_result"
    }
   ],
   "source": [
    "as_a_list"
   ]
  },
  {
   "cell_type": "markdown",
   "metadata": {
    "colab_type": "text",
    "id": "lAE7Ya2lZdI3"
   },
   "source": [
    "# Geradores Python com um Loop\n",
    "\n",
    "O exemplo acima é de menos utilidade e estudamos apenas para ter uma ideia do que estava acontecendo por baixo dos panos.\n",
    "\n",
    "Normalmente, as funções ```generator``` são implementadas com um loop e uma condição de terminação adequada.\n",
    "\n",
    "Vamos pegar um exemplo de um ```generator``` que inverte uma string."
   ]
  },
  {
   "cell_type": "code",
   "execution_count": 42,
   "metadata": {
    "colab": {},
    "colab_type": "code",
    "id": "FNECzvE_ZnOo"
   },
   "outputs": [],
   "source": [
    "def rev_str(my_str):\n",
    "    length = len(my_str)\n",
    "    for i in range(length - 1, -1, -1):\n",
    "        yield my_str[i]"
   ]
  },
  {
   "cell_type": "code",
   "execution_count": 46,
   "metadata": {
    "colab": {},
    "colab_type": "code",
    "id": "nJs-P2pPZtv_"
   },
   "outputs": [
    {
     "name": "stdout",
     "output_type": "stream",
     "text": [
      "o\n",
      "d\n",
      "r\n",
      "a\n",
      "c\n",
      "i\n",
      "r\n"
     ]
    }
   ],
   "source": [
    "for char in rev_str('ricardo'):\n",
    "    print(char)"
   ]
  },
  {
   "cell_type": "markdown",
   "metadata": {
    "colab_type": "text",
    "id": "qj4Ijyq5aAIi"
   },
   "source": [
    "Neste exemplo, usamos a função ```range()``` para obter o índice na ordem inversa usando o for loop.\n",
    "\n",
    "Acontece que essa função ```generator``` não só funciona com ```string```, mas também com outros tipos de iteráveis (sequencias) como ```list```, ```tuple```, etc."
   ]
  },
  {
   "cell_type": "markdown",
   "metadata": {
    "colab_type": "text",
    "id": "zRy4dcoTaVtq"
   },
   "source": [
    "# ```generator``` e list compreehension\n",
    "\n",
    "A principal diferença entre uma ```list``` e um ```generator``` é que, enquanto ```list``` produz a lista inteira, o ```generator``` produz um item por vez.\n",
    "\n",
    "Eles são meio preguiçosos (**lazy**), produzindo itens apenas quando solicitados.\n",
    "\n",
    "Por esse motivo, um ```generator``` é muito mais eficiente em termos de memória do que uma ```list``` equivalente."
   ]
  },
  {
   "cell_type": "code",
   "execution_count": 48,
   "metadata": {
    "colab": {
     "base_uri": "https://localhost:8080/",
     "height": 90
    },
    "colab_type": "code",
    "executionInfo": {
     "elapsed": 2038,
     "status": "ok",
     "timestamp": 1542193474309,
     "user": {
      "displayName": "Ricardo Giglio",
      "photoUrl": "https://lh5.googleusercontent.com/-XXIBh2ygfV8/AAAAAAAAAAI/AAAAAAAABeQ/Cqp9q6vwYC8/s64/photo.jpg",
      "userId": "04936271787207920694"
     },
     "user_tz": 120
    },
    "id": "xomOjFPw463p",
    "outputId": "70abea76-4faa-4e1c-d8f6-8f68714d6c65"
   },
   "outputs": [
    {
     "name": "stderr",
     "output_type": "stream",
     "text": [
      "'free' nao ‚ reconhecido como um comando interno\n",
      "ou externo, um programa oper vel ou um arquivo em lotes.\n"
     ]
    }
   ],
   "source": [
    "!free -hm"
   ]
  },
  {
   "cell_type": "code",
   "execution_count": 49,
   "metadata": {
    "colab": {},
    "colab_type": "code",
    "id": "LVDB0uHkZ2xk"
   },
   "outputs": [],
   "source": [
    "# list\n",
    "a_list = [i for i in range(10**8)]\n",
    "#a_list"
   ]
  },
  {
   "cell_type": "code",
   "execution_count": 50,
   "metadata": {
    "colab": {
     "base_uri": "https://localhost:8080/",
     "height": 35
    },
    "colab_type": "code",
    "executionInfo": {
     "elapsed": 612,
     "status": "ok",
     "timestamp": 1542193470237,
     "user": {
      "displayName": "Ricardo Giglio",
      "photoUrl": "https://lh5.googleusercontent.com/-XXIBh2ygfV8/AAAAAAAAAAI/AAAAAAAABeQ/Cqp9q6vwYC8/s64/photo.jpg",
      "userId": "04936271787207920694"
     },
     "user_tz": 120
    },
    "id": "x5FFKDWTaxu1",
    "outputId": "18339f03-7017-4132-94fb-c5f20d004ff3"
   },
   "outputs": [
    {
     "data": {
      "text/plain": [
       "<generator object <genexpr> at 0x000001D60862C750>"
      ]
     },
     "execution_count": 50,
     "metadata": {},
     "output_type": "execute_result"
    }
   ],
   "source": [
    "# generator\n",
    "a_gen = (i for i in range(10**10))\n",
    "a_gen"
   ]
  },
  {
   "cell_type": "code",
   "execution_count": 51,
   "metadata": {
    "colab": {},
    "colab_type": "code",
    "id": "417N--INtWP6"
   },
   "outputs": [
    {
     "name": "stderr",
     "output_type": "stream",
     "text": [
      "'free' nao ‚ reconhecido como um comando interno\n",
      "ou externo, um programa oper vel ou um arquivo em lotes.\n"
     ]
    }
   ],
   "source": [
    "!free -hm"
   ]
  },
  {
   "cell_type": "markdown",
   "metadata": {
    "colab_type": "text",
    "id": "7Jg6iPev-t28"
   },
   "source": [
    "# Representação de um Fluxo Infinito\n",
    "\n",
    "```generators``` são excelentes meios para representar um fluxo infinito de dados. Fluxos infinitos não podem ser armazenados na memória (```list```), e dado que ```generators``` produzem apenas um item por vez, ele pode representar um fluxo infinito de dados.\n",
    "\n",
    "O exemplo a seguir pode gerar todos os números pares (pelo menos em teoria)."
   ]
  },
  {
   "cell_type": "code",
   "execution_count": 0,
   "metadata": {
    "colab": {},
    "colab_type": "code",
    "id": "TNETjDmccjPB"
   },
   "outputs": [],
   "source": [
    "def numeros_pares():\n",
    "    n = 0\n",
    "    while True:\n",
    "        yield n\n",
    "        n += 2"
   ]
  },
  {
   "cell_type": "code",
   "execution_count": 0,
   "metadata": {
    "colab": {},
    "colab_type": "code",
    "id": "I8X2iKp8_B6M"
   },
   "outputs": [],
   "source": [
    "todos_numeros_pares = numeros_pares()"
   ]
  },
  {
   "cell_type": "code",
   "execution_count": 0,
   "metadata": {
    "colab": {
     "base_uri": "https://localhost:8080/",
     "height": 35
    },
    "colab_type": "code",
    "executionInfo": {
     "elapsed": 633,
     "status": "ok",
     "timestamp": 1542193722026,
     "user": {
      "displayName": "Ricardo Giglio",
      "photoUrl": "https://lh5.googleusercontent.com/-XXIBh2ygfV8/AAAAAAAAAAI/AAAAAAAABeQ/Cqp9q6vwYC8/s64/photo.jpg",
      "userId": "04936271787207920694"
     },
     "user_tz": 120
    },
    "id": "bDe0mIQX_FQ9",
    "outputId": "c988809b-f46e-4fc6-cd9b-5cb1dd8fe94d"
   },
   "outputs": [
    {
     "data": {
      "text/plain": [
       "0"
      ]
     },
     "execution_count": 53,
     "metadata": {
      "tags": []
     },
     "output_type": "execute_result"
    }
   ],
   "source": [
    "next(todos_numeros_pares)"
   ]
  },
  {
   "cell_type": "code",
   "execution_count": 0,
   "metadata": {
    "colab": {
     "base_uri": "https://localhost:8080/",
     "height": 35
    },
    "colab_type": "code",
    "executionInfo": {
     "elapsed": 590,
     "status": "ok",
     "timestamp": 1542193722779,
     "user": {
      "displayName": "Ricardo Giglio",
      "photoUrl": "https://lh5.googleusercontent.com/-XXIBh2ygfV8/AAAAAAAAAAI/AAAAAAAABeQ/Cqp9q6vwYC8/s64/photo.jpg",
      "userId": "04936271787207920694"
     },
     "user_tz": 120
    },
    "id": "oGmSZ5gF_OrD",
    "outputId": "980ef330-a6da-47a3-e167-4bf8b9406635"
   },
   "outputs": [
    {
     "data": {
      "text/plain": [
       "2"
      ]
     },
     "execution_count": 54,
     "metadata": {
      "tags": []
     },
     "output_type": "execute_result"
    }
   ],
   "source": [
    "next(todos_numeros_pares)"
   ]
  },
  {
   "cell_type": "code",
   "execution_count": 0,
   "metadata": {
    "colab": {
     "base_uri": "https://localhost:8080/",
     "height": 35
    },
    "colab_type": "code",
    "executionInfo": {
     "elapsed": 728,
     "status": "ok",
     "timestamp": 1542193723704,
     "user": {
      "displayName": "Ricardo Giglio",
      "photoUrl": "https://lh5.googleusercontent.com/-XXIBh2ygfV8/AAAAAAAAAAI/AAAAAAAABeQ/Cqp9q6vwYC8/s64/photo.jpg",
      "userId": "04936271787207920694"
     },
     "user_tz": 120
    },
    "id": "IabyK5s2_Pxl",
    "outputId": "307a7690-111a-4f1d-d145-c6d82cbdb06f"
   },
   "outputs": [
    {
     "data": {
      "text/plain": [
       "4"
      ]
     },
     "execution_count": 55,
     "metadata": {
      "tags": []
     },
     "output_type": "execute_result"
    }
   ],
   "source": [
    "next(todos_numeros_pares)"
   ]
  },
  {
   "cell_type": "code",
   "execution_count": 0,
   "metadata": {
    "colab": {},
    "colab_type": "code",
    "id": "VzTY-sKdD4Af"
   },
   "outputs": [],
   "source": []
  }
 ],
 "metadata": {
  "colab": {
   "collapsed_sections": [],
   "name": "Generators.ipynb",
   "provenance": [],
   "version": "0.3.2"
  },
  "kernelspec": {
   "display_name": "Python 3",
   "language": "python",
   "name": "python3"
  },
  "language_info": {
   "codemirror_mode": {
    "name": "ipython",
    "version": 3
   },
   "file_extension": ".py",
   "mimetype": "text/x-python",
   "name": "python",
   "nbconvert_exporter": "python",
   "pygments_lexer": "ipython3",
   "version": "3.7.3"
  }
 },
 "nbformat": 4,
 "nbformat_minor": 1
}
