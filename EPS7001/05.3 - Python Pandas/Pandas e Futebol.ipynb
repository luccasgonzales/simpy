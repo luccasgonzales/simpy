{
 "cells": [
  {
   "cell_type": "markdown",
   "metadata": {
    "colab_type": "text",
    "id": "9oZLhkWDwf0A"
   },
   "source": [
    "# Pandas - Exemplo Motivante"
   ]
  },
  {
   "cell_type": "code",
   "execution_count": 1,
   "metadata": {
    "colab": {
     "autoexec": {
      "startup": false,
      "wait_interval": 0
     },
     "base_uri": "https://localhost:8080/",
     "height": 34
    },
    "colab_type": "code",
    "executionInfo": {
     "elapsed": 2787,
     "status": "ok",
     "timestamp": 1525347006369,
     "user": {
      "displayName": "Ricardo Giglio",
      "photoUrl": "//lh5.googleusercontent.com/-XXIBh2ygfV8/AAAAAAAAAAI/AAAAAAAABeQ/Cqp9q6vwYC8/s50-c-k-no/photo.jpg",
      "userId": "103467249143120035492"
     },
     "user_tz": 180
    },
    "id": "mBOH8-uwwcsl",
    "outputId": "d45345f2-083b-4a67-a9ff-10a434c3db73"
   },
   "outputs": [
    {
     "name": "stdout",
     "output_type": "stream",
     "text": [
      "Requirement already satisfied: lxml in /usr/local/lib/python3.6/dist-packages (4.2.1)\r\n"
     ]
    }
   ],
   "source": [
    "!pip3 install lxml\n",
    "import pandas as pd"
   ]
  },
  {
   "cell_type": "markdown",
   "metadata": {
    "colab_type": "text",
    "id": "55epzxMswwOz"
   },
   "source": [
    "Discussão de futebol é coisa séria, e deve estar fundamentada em dados.\n",
    "\n",
    "https://pt.wikipedia.org/wiki/Resultados_e_estat%C3%ADsticas_do_Campeonato_Brasileiro_de_Futebol"
   ]
  },
  {
   "cell_type": "code",
   "execution_count": 0,
   "metadata": {
    "colab": {
     "autoexec": {
      "startup": false,
      "wait_interval": 0
     }
    },
    "colab_type": "code",
    "id": "qNtwt8DXwvQV"
   },
   "outputs": [],
   "source": [
    "url = 'https://pt.wikipedia.org/wiki/Resultados_e_estat%C3%ADsticas_do_Campeonato_Brasileiro_de_Futebol'\n",
    "dfs = pd.read_html(url)"
   ]
  },
  {
   "cell_type": "code",
   "execution_count": 3,
   "metadata": {
    "colab": {
     "autoexec": {
      "startup": false,
      "wait_interval": 0
     },
     "base_uri": "https://localhost:8080/",
     "height": 34
    },
    "colab_type": "code",
    "executionInfo": {
     "elapsed": 605,
     "status": "ok",
     "timestamp": 1525347017794,
     "user": {
      "displayName": "Ricardo Giglio",
      "photoUrl": "//lh5.googleusercontent.com/-XXIBh2ygfV8/AAAAAAAAAAI/AAAAAAAABeQ/Cqp9q6vwYC8/s50-c-k-no/photo.jpg",
      "userId": "103467249143120035492"
     },
     "user_tz": 180
    },
    "id": "CB7IYkb5w9Bq",
    "outputId": "d648eba4-c8f8-4e7e-9f35-3b8736a89e27"
   },
   "outputs": [
    {
     "data": {
      "text/plain": [
       "list"
      ]
     },
     "execution_count": 3,
     "metadata": {
      "tags": []
     },
     "output_type": "execute_result"
    }
   ],
   "source": [
    "type(dfs)"
   ]
  },
  {
   "cell_type": "code",
   "execution_count": 4,
   "metadata": {
    "colab": {
     "autoexec": {
      "startup": false,
      "wait_interval": 0
     },
     "base_uri": "https://localhost:8080/",
     "height": 34
    },
    "colab_type": "code",
    "executionInfo": {
     "elapsed": 551,
     "status": "ok",
     "timestamp": 1525347020601,
     "user": {
      "displayName": "Ricardo Giglio",
      "photoUrl": "//lh5.googleusercontent.com/-XXIBh2ygfV8/AAAAAAAAAAI/AAAAAAAABeQ/Cqp9q6vwYC8/s50-c-k-no/photo.jpg",
      "userId": "103467249143120035492"
     },
     "user_tz": 180
    },
    "id": "F8YsVgsHxGGX",
    "outputId": "e280a743-ccf0-4bcb-8e7a-1d6bbef90907"
   },
   "outputs": [
    {
     "data": {
      "text/plain": [
       "34"
      ]
     },
     "execution_count": 4,
     "metadata": {
      "tags": []
     },
     "output_type": "execute_result"
    }
   ],
   "source": [
    "len(dfs)"
   ]
  },
  {
   "cell_type": "markdown",
   "metadata": {
    "colab_type": "text",
    "id": "iLe-HRrFxH5X"
   },
   "source": [
    "Todas as 34 tabelas que o Pandas achou naquele site foram capturadas e armazenadas nessa lista.\n",
    "\n",
    "Vamos dar uma olhada na primeira (tabela **campeoes**)."
   ]
  },
  {
   "cell_type": "code",
   "execution_count": 5,
   "metadata": {
    "colab": {
     "autoexec": {
      "startup": false,
      "wait_interval": 0
     },
     "base_uri": "https://localhost:8080/",
     "height": 204
    },
    "colab_type": "code",
    "executionInfo": {
     "elapsed": 540,
     "status": "ok",
     "timestamp": 1525347072633,
     "user": {
      "displayName": "Ricardo Giglio",
      "photoUrl": "//lh5.googleusercontent.com/-XXIBh2ygfV8/AAAAAAAAAAI/AAAAAAAABeQ/Cqp9q6vwYC8/s50-c-k-no/photo.jpg",
      "userId": "103467249143120035492"
     },
     "user_tz": 180
    },
    "id": "92hebKoExGzJ",
    "outputId": "1ab880f1-d68f-41da-9518-83f892b6e947"
   },
   "outputs": [
    {
     "data": {
      "text/html": [
       "<div>\n",
       "<style scoped>\n",
       "    .dataframe tbody tr th:only-of-type {\n",
       "        vertical-align: middle;\n",
       "    }\n",
       "\n",
       "    .dataframe tbody tr th {\n",
       "        vertical-align: top;\n",
       "    }\n",
       "\n",
       "    .dataframe thead th {\n",
       "        text-align: right;\n",
       "    }\n",
       "</style>\n",
       "<table border=\"1\" class=\"dataframe\">\n",
       "  <thead>\n",
       "    <tr style=\"text-align: right;\">\n",
       "      <th></th>\n",
       "      <th>0</th>\n",
       "      <th>1</th>\n",
       "      <th>2</th>\n",
       "      <th>3</th>\n",
       "      <th>4</th>\n",
       "      <th>5</th>\n",
       "    </tr>\n",
       "  </thead>\n",
       "  <tbody>\n",
       "    <tr>\n",
       "      <th>0</th>\n",
       "      <td>Ano</td>\n",
       "      <td>Campeão</td>\n",
       "      <td>Placar(es)</td>\n",
       "      <td>Vice</td>\n",
       "      <td>3.º lugar</td>\n",
       "      <td>4.º lugar</td>\n",
       "    </tr>\n",
       "    <tr>\n",
       "      <th>1</th>\n",
       "      <td>1959 Detalhes</td>\n",
       "      <td>Bahia</td>\n",
       "      <td>3 – 2 0 – 2 3 – 1</td>\n",
       "      <td>Santos</td>\n",
       "      <td>Grêmio</td>\n",
       "      <td>Vasco da Gama</td>\n",
       "    </tr>\n",
       "    <tr>\n",
       "      <th>2</th>\n",
       "      <td>1960 Detalhes</td>\n",
       "      <td>Palmeiras</td>\n",
       "      <td>3 – 1 8 – 2</td>\n",
       "      <td>Fortaleza</td>\n",
       "      <td>Fluminense</td>\n",
       "      <td>Santa Cruz</td>\n",
       "    </tr>\n",
       "    <tr>\n",
       "      <th>3</th>\n",
       "      <td>1961 Detalhes</td>\n",
       "      <td>Santos</td>\n",
       "      <td>1 – 1 5 – 1</td>\n",
       "      <td>Bahia</td>\n",
       "      <td>America</td>\n",
       "      <td>Náutico</td>\n",
       "    </tr>\n",
       "    <tr>\n",
       "      <th>4</th>\n",
       "      <td>1962 Detalhes</td>\n",
       "      <td>Santos</td>\n",
       "      <td>4 – 3 1 – 3 5 – 0</td>\n",
       "      <td>Botafogo</td>\n",
       "      <td>Internacional</td>\n",
       "      <td>Sport</td>\n",
       "    </tr>\n",
       "  </tbody>\n",
       "</table>\n",
       "</div>"
      ],
      "text/plain": [
       "               0          1                  2          3              4  \\\n",
       "0            Ano    Campeão         Placar(es)       Vice      3.º lugar   \n",
       "1  1959 Detalhes      Bahia  3 – 2 0 – 2 3 – 1     Santos         Grêmio   \n",
       "2  1960 Detalhes  Palmeiras        3 – 1 8 – 2  Fortaleza     Fluminense   \n",
       "3  1961 Detalhes     Santos        1 – 1 5 – 1      Bahia        America   \n",
       "4  1962 Detalhes     Santos  4 – 3 1 – 3 5 – 0   Botafogo  Internacional   \n",
       "\n",
       "               5  \n",
       "0      4.º lugar  \n",
       "1  Vasco da Gama  \n",
       "2     Santa Cruz  \n",
       "3        Náutico  \n",
       "4          Sport  "
      ]
     },
     "execution_count": 5,
     "metadata": {
      "tags": []
     },
     "output_type": "execute_result"
    }
   ],
   "source": [
    "dfs[0].head()"
   ]
  },
  {
   "cell_type": "markdown",
   "metadata": {
    "colab_type": "text",
    "id": "0SEjZlrvxoaw"
   },
   "source": [
    "Precisamos arrumar algumas coisas nessa tabela. Primeiro temos que arrumar o nome das colunas"
   ]
  },
  {
   "cell_type": "code",
   "execution_count": 23,
   "metadata": {
    "colab": {
     "autoexec": {
      "startup": false,
      "wait_interval": 0
     },
     "base_uri": "https://localhost:8080/",
     "height": 204
    },
    "colab_type": "code",
    "executionInfo": {
     "elapsed": 665,
     "status": "ok",
     "timestamp": 1525347601199,
     "user": {
      "displayName": "Ricardo Giglio",
      "photoUrl": "//lh5.googleusercontent.com/-XXIBh2ygfV8/AAAAAAAAAAI/AAAAAAAABeQ/Cqp9q6vwYC8/s50-c-k-no/photo.jpg",
      "userId": "103467249143120035492"
     },
     "user_tz": 180
    },
    "id": "kWpo2Y5sxTgH",
    "outputId": "57249960-98f8-4971-f66c-98bff4ea3bb5"
   },
   "outputs": [
    {
     "data": {
      "text/html": [
       "<div>\n",
       "<style scoped>\n",
       "    .dataframe tbody tr th:only-of-type {\n",
       "        vertical-align: middle;\n",
       "    }\n",
       "\n",
       "    .dataframe tbody tr th {\n",
       "        vertical-align: top;\n",
       "    }\n",
       "\n",
       "    .dataframe thead th {\n",
       "        text-align: right;\n",
       "    }\n",
       "</style>\n",
       "<table border=\"1\" class=\"dataframe\">\n",
       "  <thead>\n",
       "    <tr style=\"text-align: right;\">\n",
       "      <th></th>\n",
       "      <th>Ano</th>\n",
       "      <th>Campeão</th>\n",
       "      <th>Placar(es)</th>\n",
       "      <th>Vice</th>\n",
       "      <th>3.º lugar</th>\n",
       "      <th>4.º lugar</th>\n",
       "    </tr>\n",
       "  </thead>\n",
       "  <tbody>\n",
       "    <tr>\n",
       "      <th>1</th>\n",
       "      <td>1959 Detalhes</td>\n",
       "      <td>Bahia</td>\n",
       "      <td>3 – 2 0 – 2 3 – 1</td>\n",
       "      <td>Santos</td>\n",
       "      <td>Grêmio</td>\n",
       "      <td>Vasco da Gama</td>\n",
       "    </tr>\n",
       "    <tr>\n",
       "      <th>2</th>\n",
       "      <td>1960 Detalhes</td>\n",
       "      <td>Palmeiras</td>\n",
       "      <td>3 – 1 8 – 2</td>\n",
       "      <td>Fortaleza</td>\n",
       "      <td>Fluminense</td>\n",
       "      <td>Santa Cruz</td>\n",
       "    </tr>\n",
       "    <tr>\n",
       "      <th>3</th>\n",
       "      <td>1961 Detalhes</td>\n",
       "      <td>Santos</td>\n",
       "      <td>1 – 1 5 – 1</td>\n",
       "      <td>Bahia</td>\n",
       "      <td>America</td>\n",
       "      <td>Náutico</td>\n",
       "    </tr>\n",
       "    <tr>\n",
       "      <th>4</th>\n",
       "      <td>1962 Detalhes</td>\n",
       "      <td>Santos</td>\n",
       "      <td>4 – 3 1 – 3 5 – 0</td>\n",
       "      <td>Botafogo</td>\n",
       "      <td>Internacional</td>\n",
       "      <td>Sport</td>\n",
       "    </tr>\n",
       "    <tr>\n",
       "      <th>5</th>\n",
       "      <td>1963 Detalhes</td>\n",
       "      <td>Santos</td>\n",
       "      <td>6 – 0 2 – 0</td>\n",
       "      <td>Bahia</td>\n",
       "      <td>Grêmio</td>\n",
       "      <td>Botafogo</td>\n",
       "    </tr>\n",
       "  </tbody>\n",
       "</table>\n",
       "</div>"
      ],
      "text/plain": [
       "0            Ano    Campeão         Placar(es)       Vice      3.º lugar  \\\n",
       "1  1959 Detalhes      Bahia  3 – 2 0 – 2 3 – 1     Santos         Grêmio   \n",
       "2  1960 Detalhes  Palmeiras        3 – 1 8 – 2  Fortaleza     Fluminense   \n",
       "3  1961 Detalhes     Santos        1 – 1 5 – 1      Bahia        America   \n",
       "4  1962 Detalhes     Santos  4 – 3 1 – 3 5 – 0   Botafogo  Internacional   \n",
       "5  1963 Detalhes     Santos        6 – 0 2 – 0      Bahia         Grêmio   \n",
       "\n",
       "0      4.º lugar  \n",
       "1  Vasco da Gama  \n",
       "2     Santa Cruz  \n",
       "3        Náutico  \n",
       "4          Sport  \n",
       "5       Botafogo  "
      ]
     },
     "execution_count": 23,
     "metadata": {
      "tags": []
     },
     "output_type": "execute_result"
    }
   ],
   "source": [
    "campeoes = dfs[0].copy()\n",
    "campeoes.columns = campeoes.iloc[0]\n",
    "campeoes = campeoes[1:]\n",
    "campeoes.head()"
   ]
  },
  {
   "cell_type": "markdown",
   "metadata": {
    "colab_type": "text",
    "id": "L87AmA7QxyRu"
   },
   "source": [
    "Repare que a coluna ```Ano``` tem alguns problemas (escrito \"Detalhes\").\n",
    "\n",
    "Vamos primeiro escrever uma função que arruma um valor (uma ```string```)"
   ]
  },
  {
   "cell_type": "code",
   "execution_count": 24,
   "metadata": {
    "colab": {
     "autoexec": {
      "startup": false,
      "wait_interval": 0
     },
     "base_uri": "https://localhost:8080/",
     "height": 34
    },
    "colab_type": "code",
    "executionInfo": {
     "elapsed": 569,
     "status": "ok",
     "timestamp": 1525347601841,
     "user": {
      "displayName": "Ricardo Giglio",
      "photoUrl": "//lh5.googleusercontent.com/-XXIBh2ygfV8/AAAAAAAAAAI/AAAAAAAABeQ/Cqp9q6vwYC8/s50-c-k-no/photo.jpg",
      "userId": "103467249143120035492"
     },
     "user_tz": 180
    },
    "id": "gNjEmtCexiUJ",
    "outputId": "65392fee-be6f-4cfb-c36d-d4e475aa91a2"
   },
   "outputs": [
    {
     "data": {
      "text/plain": [
       "2018"
      ]
     },
     "execution_count": 24,
     "metadata": {
      "tags": []
     },
     "output_type": "execute_result"
    }
   ],
   "source": [
    "def fix_ano(a_string):\n",
    "    return int(a_string.replace('Detalhes', '')\\\n",
    "                       .replace('[nota 2]', '')\\\n",
    "                       .replace('[nota 4]', '')\\\n",
    "                       .strip())\n",
    "fix_ano('2018Detalhes[nota 2]')"
   ]
  },
  {
   "cell_type": "markdown",
   "metadata": {
    "colab_type": "text",
    "id": "wT_B4dZG0Vdd"
   },
   "source": [
    "Então usamos o método ```apply``` que alpica uma função a cada elemento de uma coluna (ou linha)"
   ]
  },
  {
   "cell_type": "code",
   "execution_count": 25,
   "metadata": {
    "colab": {
     "autoexec": {
      "startup": false,
      "wait_interval": 0
     },
     "base_uri": "https://localhost:8080/",
     "height": 235
    },
    "colab_type": "code",
    "executionInfo": {
     "elapsed": 590,
     "status": "ok",
     "timestamp": 1525347602484,
     "user": {
      "displayName": "Ricardo Giglio",
      "photoUrl": "//lh5.googleusercontent.com/-XXIBh2ygfV8/AAAAAAAAAAI/AAAAAAAABeQ/Cqp9q6vwYC8/s50-c-k-no/photo.jpg",
      "userId": "103467249143120035492"
     },
     "user_tz": 180
    },
    "id": "wiEBME-YyLwW",
    "outputId": "073730c7-e352-4e2b-ff38-149758905b75"
   },
   "outputs": [
    {
     "data": {
      "text/html": [
       "<div>\n",
       "<style scoped>\n",
       "    .dataframe tbody tr th:only-of-type {\n",
       "        vertical-align: middle;\n",
       "    }\n",
       "\n",
       "    .dataframe tbody tr th {\n",
       "        vertical-align: top;\n",
       "    }\n",
       "\n",
       "    .dataframe thead th {\n",
       "        text-align: right;\n",
       "    }\n",
       "</style>\n",
       "<table border=\"1\" class=\"dataframe\">\n",
       "  <thead>\n",
       "    <tr style=\"text-align: right;\">\n",
       "      <th></th>\n",
       "      <th>Campeão</th>\n",
       "      <th>Placar(es)</th>\n",
       "      <th>Vice</th>\n",
       "      <th>3.º lugar</th>\n",
       "      <th>4.º lugar</th>\n",
       "    </tr>\n",
       "    <tr>\n",
       "      <th>Ano</th>\n",
       "      <th></th>\n",
       "      <th></th>\n",
       "      <th></th>\n",
       "      <th></th>\n",
       "      <th></th>\n",
       "    </tr>\n",
       "  </thead>\n",
       "  <tbody>\n",
       "    <tr>\n",
       "      <th>1959</th>\n",
       "      <td>Bahia</td>\n",
       "      <td>3 – 2 0 – 2 3 – 1</td>\n",
       "      <td>Santos</td>\n",
       "      <td>Grêmio</td>\n",
       "      <td>Vasco da Gama</td>\n",
       "    </tr>\n",
       "    <tr>\n",
       "      <th>1960</th>\n",
       "      <td>Palmeiras</td>\n",
       "      <td>3 – 1 8 – 2</td>\n",
       "      <td>Fortaleza</td>\n",
       "      <td>Fluminense</td>\n",
       "      <td>Santa Cruz</td>\n",
       "    </tr>\n",
       "    <tr>\n",
       "      <th>1961</th>\n",
       "      <td>Santos</td>\n",
       "      <td>1 – 1 5 – 1</td>\n",
       "      <td>Bahia</td>\n",
       "      <td>America</td>\n",
       "      <td>Náutico</td>\n",
       "    </tr>\n",
       "    <tr>\n",
       "      <th>1962</th>\n",
       "      <td>Santos</td>\n",
       "      <td>4 – 3 1 – 3 5 – 0</td>\n",
       "      <td>Botafogo</td>\n",
       "      <td>Internacional</td>\n",
       "      <td>Sport</td>\n",
       "    </tr>\n",
       "    <tr>\n",
       "      <th>1963</th>\n",
       "      <td>Santos</td>\n",
       "      <td>6 – 0 2 – 0</td>\n",
       "      <td>Bahia</td>\n",
       "      <td>Grêmio</td>\n",
       "      <td>Botafogo</td>\n",
       "    </tr>\n",
       "  </tbody>\n",
       "</table>\n",
       "</div>"
      ],
      "text/plain": [
       "0       Campeão         Placar(es)       Vice      3.º lugar      4.º lugar\n",
       "Ano                                                                        \n",
       "1959      Bahia  3 – 2 0 – 2 3 – 1     Santos         Grêmio  Vasco da Gama\n",
       "1960  Palmeiras        3 – 1 8 – 2  Fortaleza     Fluminense     Santa Cruz\n",
       "1961     Santos        1 – 1 5 – 1      Bahia        America        Náutico\n",
       "1962     Santos  4 – 3 1 – 3 5 – 0   Botafogo  Internacional          Sport\n",
       "1963     Santos        6 – 0 2 – 0      Bahia         Grêmio       Botafogo"
      ]
     },
     "execution_count": 25,
     "metadata": {
      "tags": []
     },
     "output_type": "execute_result"
    }
   ],
   "source": [
    "campeoes['Ano'] = campeoes['Ano'].apply(fix_ano)"
   ]
  },
  {
   "cell_type": "markdown",
   "metadata": {
    "colab_type": "text",
    "id": "Ck50Fxcr0e-D"
   },
   "source": [
    "Finalmente setamos o índice da tabela como o ano"
   ]
  },
  {
   "cell_type": "code",
   "execution_count": 0,
   "metadata": {
    "colab": {
     "autoexec": {
      "startup": false,
      "wait_interval": 0
     }
    },
    "colab_type": "code",
    "id": "08GlO-A40iXr"
   },
   "outputs": [],
   "source": [
    "campeoes = campeoes.set_index('Ano')\n",
    "campeoes.head()"
   ]
  },
  {
   "cell_type": "markdown",
   "metadata": {
    "colab_type": "text",
    "id": "dUGWQJm73hkB"
   },
   "source": [
    "Repare também que de 2003 para frente virou campeonato de pontos corridos (sem final)\n",
    "\n",
    "Para filtrar linhas, podemos fazer"
   ]
  },
  {
   "cell_type": "code",
   "execution_count": 57,
   "metadata": {
    "colab": {
     "autoexec": {
      "startup": false,
      "wait_interval": 0
     },
     "base_uri": "https://localhost:8080/",
     "height": 235
    },
    "colab_type": "code",
    "executionInfo": {
     "elapsed": 608,
     "status": "ok",
     "timestamp": 1525349325753,
     "user": {
      "displayName": "Ricardo Giglio",
      "photoUrl": "//lh5.googleusercontent.com/-XXIBh2ygfV8/AAAAAAAAAAI/AAAAAAAABeQ/Cqp9q6vwYC8/s50-c-k-no/photo.jpg",
      "userId": "103467249143120035492"
     },
     "user_tz": 180
    },
    "id": "ro4KtvE64-3O",
    "outputId": "07ca8ff5-3abb-471c-8152-9ccb4a41a4ad"
   },
   "outputs": [
    {
     "data": {
      "text/html": [
       "<div>\n",
       "<style scoped>\n",
       "    .dataframe tbody tr th:only-of-type {\n",
       "        vertical-align: middle;\n",
       "    }\n",
       "\n",
       "    .dataframe tbody tr th {\n",
       "        vertical-align: top;\n",
       "    }\n",
       "\n",
       "    .dataframe thead th {\n",
       "        text-align: right;\n",
       "    }\n",
       "</style>\n",
       "<table border=\"1\" class=\"dataframe\">\n",
       "  <thead>\n",
       "    <tr style=\"text-align: right;\">\n",
       "      <th></th>\n",
       "      <th>Campeão</th>\n",
       "      <th>Placar(es)</th>\n",
       "      <th>Vice</th>\n",
       "      <th>3.º lugar</th>\n",
       "      <th>4.º lugar</th>\n",
       "    </tr>\n",
       "    <tr>\n",
       "      <th>Ano</th>\n",
       "      <th></th>\n",
       "      <th></th>\n",
       "      <th></th>\n",
       "      <th></th>\n",
       "      <th></th>\n",
       "    </tr>\n",
       "  </thead>\n",
       "  <tbody>\n",
       "    <tr>\n",
       "      <th>1998</th>\n",
       "      <td>Corinthians</td>\n",
       "      <td>2 – 2 1 – 1 2 – 0</td>\n",
       "      <td>Cruzeiro</td>\n",
       "      <td>Santos</td>\n",
       "      <td>Portuguesa</td>\n",
       "    </tr>\n",
       "    <tr>\n",
       "      <th>1999</th>\n",
       "      <td>Corinthians</td>\n",
       "      <td>2 – 3 2 – 0 0 – 0</td>\n",
       "      <td>Atlético Mineiro</td>\n",
       "      <td>Vitória</td>\n",
       "      <td>São Paulo</td>\n",
       "    </tr>\n",
       "    <tr>\n",
       "      <th>2000</th>\n",
       "      <td>Vasco da Gama</td>\n",
       "      <td>1 – 1 3 – 1</td>\n",
       "      <td>São Caetano</td>\n",
       "      <td>Cruzeiro</td>\n",
       "      <td>Grêmio</td>\n",
       "    </tr>\n",
       "    <tr>\n",
       "      <th>2001</th>\n",
       "      <td>Atlético Paranaense</td>\n",
       "      <td>4 – 2 1 – 0</td>\n",
       "      <td>São Caetano</td>\n",
       "      <td>Fluminense</td>\n",
       "      <td>Atlético Mineiro</td>\n",
       "    </tr>\n",
       "    <tr>\n",
       "      <th>2002</th>\n",
       "      <td>Santos</td>\n",
       "      <td>2 – 0 3 – 2</td>\n",
       "      <td>Corinthians</td>\n",
       "      <td>Grêmio</td>\n",
       "      <td>Fluminense</td>\n",
       "    </tr>\n",
       "  </tbody>\n",
       "</table>\n",
       "</div>"
      ],
      "text/plain": [
       "0                 Campeão         Placar(es)              Vice   3.º lugar  \\\n",
       "Ano                                                                          \n",
       "1998          Corinthians  2 – 2 1 – 1 2 – 0          Cruzeiro      Santos   \n",
       "1999          Corinthians  2 – 3 2 – 0 0 – 0  Atlético Mineiro     Vitória   \n",
       "2000        Vasco da Gama        1 – 1 3 – 1       São Caetano    Cruzeiro   \n",
       "2001  Atlético Paranaense        4 – 2 1 – 0       São Caetano  Fluminense   \n",
       "2002               Santos        2 – 0 3 – 2       Corinthians      Grêmio   \n",
       "\n",
       "0            4.º lugar  \n",
       "Ano                     \n",
       "1998        Portuguesa  \n",
       "1999         São Paulo  \n",
       "2000            Grêmio  \n",
       "2001  Atlético Mineiro  \n",
       "2002        Fluminense  "
      ]
     },
     "execution_count": 57,
     "metadata": {
      "tags": []
     },
     "output_type": "execute_result"
    }
   ],
   "source": [
    "campeoes.loc[:2002].tail()"
   ]
  },
  {
   "cell_type": "markdown",
   "metadata": {
    "colab_type": "text",
    "id": "OvJenoRLzXcB"
   },
   "source": [
    "## Quem é o maior campeão?"
   ]
  },
  {
   "cell_type": "code",
   "execution_count": 26,
   "metadata": {
    "colab": {
     "autoexec": {
      "startup": false,
      "wait_interval": 0
     },
     "base_uri": "https://localhost:8080/",
     "height": 323
    },
    "colab_type": "code",
    "executionInfo": {
     "elapsed": 505,
     "status": "ok",
     "timestamp": 1525347643487,
     "user": {
      "displayName": "Ricardo Giglio",
      "photoUrl": "//lh5.googleusercontent.com/-XXIBh2ygfV8/AAAAAAAAAAI/AAAAAAAABeQ/Cqp9q6vwYC8/s50-c-k-no/photo.jpg",
      "userId": "103467249143120035492"
     },
     "user_tz": 180
    },
    "id": "o36432a0yqND",
    "outputId": "51d58573-7ef7-48af-d9ef-d6384367a35e"
   },
   "outputs": [
    {
     "data": {
      "text/plain": [
       "Palmeiras              9\n",
       "Santos                 8\n",
       "Corinthians            7\n",
       "São Paulo              6\n",
       "Flamengo               5\n",
       "Fluminense             4\n",
       "Cruzeiro               4\n",
       "Vasco da Gama          4\n",
       "Internacional          3\n",
       "Bahia                  2\n",
       "Grêmio                 2\n",
       "Botafogo               2\n",
       "Atlético Mineiro       1\n",
       "Coritiba               1\n",
       "Guarani                1\n",
       "Sport                  1\n",
       "Atlético Paranaense    1\n",
       "Name: Campeão, dtype: int64"
      ]
     },
     "execution_count": 26,
     "metadata": {
      "tags": []
     },
     "output_type": "execute_result"
    }
   ],
   "source": [
    "campeoes['Campeão'].value_counts()"
   ]
  },
  {
   "cell_type": "markdown",
   "metadata": {
    "colab_type": "text",
    "id": "8em72Rxf0lUr"
   },
   "source": [
    "## Quem é o maior vice?"
   ]
  },
  {
   "cell_type": "code",
   "execution_count": 27,
   "metadata": {
    "colab": {
     "autoexec": {
      "startup": false,
      "wait_interval": 0
     },
     "base_uri": "https://localhost:8080/",
     "height": 391
    },
    "colab_type": "code",
    "executionInfo": {
     "elapsed": 381,
     "status": "ok",
     "timestamp": 1525347673644,
     "user": {
      "displayName": "Ricardo Giglio",
      "photoUrl": "//lh5.googleusercontent.com/-XXIBh2ygfV8/AAAAAAAAAAI/AAAAAAAABeQ/Cqp9q6vwYC8/s50-c-k-no/photo.jpg",
      "userId": "103467249143120035492"
     },
     "user_tz": 180
    },
    "id": "m4Otgz_Uze39",
    "outputId": "b7420951-e737-4154-81ad-ac3ed62b3e9d"
   },
   "outputs": [
    {
     "data": {
      "text/plain": [
       "Santos                 7\n",
       "São Paulo              6\n",
       "Internacional          6\n",
       "Atlético Mineiro       5\n",
       "Cruzeiro               5\n",
       "Palmeiras              4\n",
       "Vasco da Gama          4\n",
       "Corinthians            3\n",
       "Grêmio                 3\n",
       "Botafogo               3\n",
       "São Caetano            2\n",
       "Guarani                2\n",
       "Bahia                  2\n",
       "Fortaleza              2\n",
       "Flamengo               1\n",
       "Portuguesa             1\n",
       "Náutico                1\n",
       "Bragantino             1\n",
       "Atlético Paranaense    1\n",
       "Vitória                1\n",
       "Bangu                  1\n",
       "Name: Vice, dtype: int64"
      ]
     },
     "execution_count": 27,
     "metadata": {
      "tags": []
     },
     "output_type": "execute_result"
    }
   ],
   "source": [
    "campeoes['Vice'].value_counts()"
   ]
  },
  {
   "cell_type": "markdown",
   "metadata": {
    "colab_type": "text",
    "id": "4jN42UsJz69R"
   },
   "source": [
    "## Quem foi mais vezes para a final?"
   ]
  },
  {
   "cell_type": "code",
   "execution_count": 58,
   "metadata": {
    "colab": {
     "autoexec": {
      "startup": false,
      "wait_interval": 0
     },
     "base_uri": "https://localhost:8080/",
     "height": 442
    },
    "colab_type": "code",
    "executionInfo": {
     "elapsed": 589,
     "status": "ok",
     "timestamp": 1525349352277,
     "user": {
      "displayName": "Ricardo Giglio",
      "photoUrl": "//lh5.googleusercontent.com/-XXIBh2ygfV8/AAAAAAAAAAI/AAAAAAAABeQ/Cqp9q6vwYC8/s50-c-k-no/photo.jpg",
      "userId": "103467249143120035492"
     },
     "user_tz": 180
    },
    "id": "LqVhqhtGzmRc",
    "outputId": "16096e14-27cd-44b0-e8d2-e54209587b70"
   },
   "outputs": [
    {
     "data": {
      "text/plain": [
       "Santos                 11.0\n",
       "Palmeiras              11.0\n",
       "São Paulo               8.0\n",
       "Vasco da Gama           7.0\n",
       "Corinthians             6.0\n",
       "Internacional           6.0\n",
       "Flamengo                5.0\n",
       "Botafogo                5.0\n",
       "Cruzeiro                5.0\n",
       "Atlético Mineiro        4.0\n",
       "Bahia                   4.0\n",
       "Guarani                 3.0\n",
       "Grêmio                  3.0\n",
       "Fortaleza               2.0\n",
       "Fluminense              2.0\n",
       "São Caetano             2.0\n",
       "Náutico                 1.0\n",
       "Coritiba                1.0\n",
       "Portuguesa              1.0\n",
       "Bragantino              1.0\n",
       "Sport                   1.0\n",
       "Bangu                   1.0\n",
       "Atlético Paranaense     1.0\n",
       "Vitória                 1.0\n",
       "dtype: float64"
      ]
     },
     "execution_count": 58,
     "metadata": {
      "tags": []
     },
     "output_type": "execute_result"
    }
   ],
   "source": [
    "pd.concat([campeoes.loc[:2002]['Campeão'].value_counts(),\n",
    "           campeoes.loc[:2002]['Vice'].value_counts()],\n",
    "         axis=1).sum(axis=1).sort_values(ascending=False)"
   ]
  },
  {
   "cell_type": "markdown",
   "metadata": {
    "colab_type": "text",
    "id": "FOST-1v90see"
   },
   "source": [
    "## Quais as finais mais frequentes (quais times se enfrentado na final)"
   ]
  },
  {
   "cell_type": "code",
   "execution_count": 59,
   "metadata": {
    "colab": {
     "autoexec": {
      "startup": false,
      "wait_interval": 0
     },
     "base_uri": "https://localhost:8080/",
     "height": 119
    },
    "colab_type": "code",
    "executionInfo": {
     "elapsed": 791,
     "status": "ok",
     "timestamp": 1525349363096,
     "user": {
      "displayName": "Ricardo Giglio",
      "photoUrl": "//lh5.googleusercontent.com/-XXIBh2ygfV8/AAAAAAAAAAI/AAAAAAAABeQ/Cqp9q6vwYC8/s50-c-k-no/photo.jpg",
      "userId": "103467249143120035492"
     },
     "user_tz": 180
    },
    "id": "Iuxi9Okdztt_",
    "outputId": "da31374c-5eec-4d3c-d7cc-73d4e2fd9e56"
   },
   "outputs": [
    {
     "data": {
      "text/plain": [
       "Bahia contra Santos                  3\n",
       "Flamengo contra Santos               2\n",
       "Botafogo contra Santos               2\n",
       "Atlético Mineiro contra São Paulo    2\n",
       "Cruzeiro contra Internacional        1\n",
       "dtype: int64"
      ]
     },
     "execution_count": 59,
     "metadata": {
      "tags": []
     },
     "output_type": "execute_result"
    }
   ],
   "source": [
    "pd.concat([campeoes.loc[:2002]['Campeão'],\n",
    "           campeoes.loc[:2002]['Vice']],\n",
    "         axis=1).apply(lambda x: ' contra '.join(sorted([x['Campeão'], x['Vice']])),\n",
    "                       axis=1).value_counts().head()"
   ]
  },
  {
   "cell_type": "markdown",
   "metadata": {
    "colab_type": "text",
    "id": "_ugC-2Ee2J9c"
   },
   "source": [
    "## Quais times aparecem mais vezes entre os 4 primeiros?"
   ]
  },
  {
   "cell_type": "code",
   "execution_count": 60,
   "metadata": {
    "colab": {
     "autoexec": {
      "startup": false,
      "wait_interval": 0
     },
     "base_uri": "https://localhost:8080/",
     "height": 578
    },
    "colab_type": "code",
    "executionInfo": {
     "elapsed": 631,
     "status": "ok",
     "timestamp": 1525349375918,
     "user": {
      "displayName": "Ricardo Giglio",
      "photoUrl": "//lh5.googleusercontent.com/-XXIBh2ygfV8/AAAAAAAAAAI/AAAAAAAABeQ/Cqp9q6vwYC8/s50-c-k-no/photo.jpg",
      "userId": "103467249143120035492"
     },
     "user_tz": 180
    },
    "id": "QT7QiqUt01-Q",
    "outputId": "06b58ff6-de85-4598-db7a-320f81c0aa22"
   },
   "outputs": [
    {
     "data": {
      "text/plain": [
       "Palmeiras              20\n",
       "São Paulo              19\n",
       "Grêmio                 19\n",
       "Santos                 19\n",
       "Corinthians            19\n",
       "Internacional          18\n",
       "Cruzeiro               18\n",
       "Atlético Mineiro       17\n",
       "Fluminense             15\n",
       "Vasco da Gama          12\n",
       "Botafogo               11\n",
       "Flamengo               10\n",
       "Guarani                 5\n",
       "Náutico                 5\n",
       "Bahia                   5\n",
       "Atlético Paranaense     4\n",
       "Coritiba                3\n",
       "São Caetano             3\n",
       "Vitória                 2\n",
       "Sport                   2\n",
       "Portuguesa              2\n",
       "America                 2\n",
       "Bragantino              2\n",
       "Santa Cruz              2\n",
       "Fortaleza               2\n",
       "Goiás                   2\n",
       "Ponte Preta             1\n",
       "Brasil de Pelotas       1\n",
       "Londrina                1\n",
       "Bangu                   1\n",
       "Ceará                   1\n",
       "Operário-MS             1\n",
       "dtype: int64"
      ]
     },
     "execution_count": 60,
     "metadata": {
      "tags": []
     },
     "output_type": "execute_result"
    }
   ],
   "source": [
    "campeoes[['Campeão', 'Vice', '3.º lugar', '4.º lugar']].stack().value_counts()"
   ]
  },
  {
   "cell_type": "markdown",
   "metadata": {
    "colab_type": "text",
    "id": "4k4qmng66J3r"
   },
   "source": [
    "## Quem é o maior campeão na era dos pontos corridos?"
   ]
  },
  {
   "cell_type": "code",
   "execution_count": 62,
   "metadata": {
    "colab": {
     "autoexec": {
      "startup": false,
      "wait_interval": 0
     },
     "base_uri": "https://localhost:8080/",
     "height": 153
    },
    "colab_type": "code",
    "executionInfo": {
     "elapsed": 812,
     "status": "ok",
     "timestamp": 1525349439623,
     "user": {
      "displayName": "Ricardo Giglio",
      "photoUrl": "//lh5.googleusercontent.com/-XXIBh2ygfV8/AAAAAAAAAAI/AAAAAAAABeQ/Cqp9q6vwYC8/s50-c-k-no/photo.jpg",
      "userId": "103467249143120035492"
     },
     "user_tz": 180
    },
    "id": "2DTPdC6v6JXN",
    "outputId": "7426065a-e31d-4479-c32f-71944137826e"
   },
   "outputs": [
    {
     "data": {
      "text/plain": [
       "Corinthians    4\n",
       "Cruzeiro       3\n",
       "São Paulo      3\n",
       "Santos         2\n",
       "Fluminense     2\n",
       "Palmeiras      1\n",
       "Flamengo       1\n",
       "Name: Campeão, dtype: int64"
      ]
     },
     "execution_count": 62,
     "metadata": {
      "tags": []
     },
     "output_type": "execute_result"
    }
   ],
   "source": [
    "campeoes.loc[2002:]['Campeão'].value_counts()"
   ]
  },
  {
   "cell_type": "markdown",
   "metadata": {
    "colab_type": "text",
    "id": "nPjmL9We2lbu"
   },
   "source": [
    "## Que time marcou mais gol em uma final?\n",
    "\n",
    "Para isso vamos ter que parsear a coluna \"Placar(es)\""
   ]
  },
  {
   "cell_type": "code",
   "execution_count": 64,
   "metadata": {
    "colab": {
     "autoexec": {
      "startup": false,
      "wait_interval": 0
     },
     "base_uri": "https://localhost:8080/",
     "height": 833
    },
    "colab_type": "code",
    "executionInfo": {
     "elapsed": 583,
     "status": "ok",
     "timestamp": 1525349619320,
     "user": {
      "displayName": "Ricardo Giglio",
      "photoUrl": "//lh5.googleusercontent.com/-XXIBh2ygfV8/AAAAAAAAAAI/AAAAAAAABeQ/Cqp9q6vwYC8/s50-c-k-no/photo.jpg",
      "userId": "103467249143120035492"
     },
     "user_tz": 180
    },
    "id": "aCT3XhYk2P8I",
    "outputId": "50b5fb4b-6743-426f-d104-e50ad8a2befd"
   },
   "outputs": [
    {
     "data": {
      "text/plain": [
       "Ano\n",
       "1959                3 – 2 0 – 2 3 – 1\n",
       "1960                      3 – 1 8 – 2\n",
       "1961                      1 – 1 5 – 1\n",
       "1962                4 – 3 1 – 3 5 – 0\n",
       "1963                      6 – 0 2 – 0\n",
       "1964                      4 – 1 0 – 0\n",
       "1965                      5 – 1 1 – 0\n",
       "1966                      6 – 2 3 – 2\n",
       "1967                         [nota 3]\n",
       "1967                3 – 1 1 – 2 2 – 0\n",
       "1968                         [nota 3]\n",
       "1968                      2 – 2 4 – 0\n",
       "1969                         [nota 3]\n",
       "1970                         [nota 3]\n",
       "1971                         [nota 5]\n",
       "1972                            0 – 0\n",
       "1973                         [nota 3]\n",
       "1974                            2 – 1\n",
       "1975                            1 – 0\n",
       "1976                            2 – 0\n",
       "1977          0 – 0 (pro) 3 – 2 (pen)\n",
       "1978                      1 – 0 1 – 0\n",
       "1979                      2 – 0 2 – 1\n",
       "1980                      0 – 1 3 – 2\n",
       "1981                      2 – 1 1 – 0\n",
       "1982                1 – 1 0 – 0 1 – 0\n",
       "1983                      1 – 2 3 – 0\n",
       "1984                      1 – 0 0 – 0\n",
       "1985          1 – 1 (pro) 6 – 5 (pen)\n",
       "1986    1 – 1 3 – 3 (pro) 4 – 3 (pen)\n",
       "1987                      0 – 0 1 – 0\n",
       "1988                      2 – 1 0 – 0\n",
       "1989                            1 – 0\n",
       "1990                      1 – 0 1 – 0\n",
       "1991                      1 – 0 0 – 0\n",
       "1992                      3 – 0 2 – 2\n",
       "1993                      1 – 0 2 – 0\n",
       "1994                      3 – 1 1 – 1\n",
       "1995                      2 – 1 1 – 1\n",
       "1996                      0 – 2 2 – 0\n",
       "1997                      0 – 0 0 – 0\n",
       "1998                2 – 2 1 – 1 2 – 0\n",
       "1999                2 – 3 2 – 0 0 – 0\n",
       "2000                      1 – 1 3 – 1\n",
       "2001                      4 – 2 1 – 0\n",
       "2002                      2 – 0 3 – 2\n",
       "Name: Placar(es), dtype: object"
      ]
     },
     "execution_count": 64,
     "metadata": {
      "tags": []
     },
     "output_type": "execute_result"
    }
   ],
   "source": [
    "campeoes.loc[:2002]['Placar(es)']"
   ]
  },
  {
   "cell_type": "code",
   "execution_count": 84,
   "metadata": {
    "colab": {
     "autoexec": {
      "startup": false,
      "wait_interval": 0
     },
     "base_uri": "https://localhost:8080/",
     "height": 34
    },
    "colab_type": "code",
    "executionInfo": {
     "elapsed": 595,
     "status": "ok",
     "timestamp": 1525350547695,
     "user": {
      "displayName": "Ricardo Giglio",
      "photoUrl": "//lh5.googleusercontent.com/-XXIBh2ygfV8/AAAAAAAAAAI/AAAAAAAABeQ/Cqp9q6vwYC8/s50-c-k-no/photo.jpg",
      "userId": "103467249143120035492"
     },
     "user_tz": 180
    },
    "id": "tfhwsAyb3IWp",
    "outputId": "47a09e68-cec1-4444-a8cd-3c76fd4e8405"
   },
   "outputs": [
    {
     "data": {
      "text/plain": [
       "(7, 6)"
      ]
     },
     "execution_count": 84,
     "metadata": {
      "tags": []
     },
     "output_type": "execute_result"
    }
   ],
   "source": [
    "def fix_placar(a_string):\n",
    "    campeao = 0\n",
    "    vice = 0\n",
    "    while a_string.count(' – ') > 0:\n",
    "        campeao += int(a_string[a_string.find(' – ') - 1])\n",
    "        vice += int(a_string[a_string.find(' – ') + 3])\n",
    "        a_string = a_string[a_string.find(' – ') + 4:]\n",
    "    return campeao, vice\n",
    "fix_placar('1 – 1 (pro) 6 – 5 (pen)')"
   ]
  },
  {
   "cell_type": "code",
   "execution_count": 94,
   "metadata": {
    "colab": {
     "autoexec": {
      "startup": false,
      "wait_interval": 0
     },
     "base_uri": "https://localhost:8080/",
     "height": 1506
    },
    "colab_type": "code",
    "executionInfo": {
     "elapsed": 647,
     "status": "ok",
     "timestamp": 1525350813916,
     "user": {
      "displayName": "Ricardo Giglio",
      "photoUrl": "//lh5.googleusercontent.com/-XXIBh2ygfV8/AAAAAAAAAAI/AAAAAAAABeQ/Cqp9q6vwYC8/s50-c-k-no/photo.jpg",
      "userId": "103467249143120035492"
     },
     "user_tz": 180
    },
    "id": "mDY1rceo7eeQ",
    "outputId": "12e8ed6f-5fba-4467-bee6-63b94b352ed8"
   },
   "outputs": [
    {
     "data": {
      "text/html": [
       "<div>\n",
       "<style scoped>\n",
       "    .dataframe tbody tr th:only-of-type {\n",
       "        vertical-align: middle;\n",
       "    }\n",
       "\n",
       "    .dataframe tbody tr th {\n",
       "        vertical-align: top;\n",
       "    }\n",
       "\n",
       "    .dataframe thead th {\n",
       "        text-align: right;\n",
       "    }\n",
       "</style>\n",
       "<table border=\"1\" class=\"dataframe\">\n",
       "  <thead>\n",
       "    <tr style=\"text-align: right;\">\n",
       "      <th></th>\n",
       "      <th>gols camp</th>\n",
       "      <th>gols vice</th>\n",
       "    </tr>\n",
       "    <tr>\n",
       "      <th>Ano</th>\n",
       "      <th></th>\n",
       "      <th></th>\n",
       "    </tr>\n",
       "  </thead>\n",
       "  <tbody>\n",
       "    <tr>\n",
       "      <th>1959</th>\n",
       "      <td>6</td>\n",
       "      <td>5</td>\n",
       "    </tr>\n",
       "    <tr>\n",
       "      <th>1960</th>\n",
       "      <td>11</td>\n",
       "      <td>3</td>\n",
       "    </tr>\n",
       "    <tr>\n",
       "      <th>1961</th>\n",
       "      <td>6</td>\n",
       "      <td>2</td>\n",
       "    </tr>\n",
       "    <tr>\n",
       "      <th>1962</th>\n",
       "      <td>10</td>\n",
       "      <td>6</td>\n",
       "    </tr>\n",
       "    <tr>\n",
       "      <th>1963</th>\n",
       "      <td>8</td>\n",
       "      <td>0</td>\n",
       "    </tr>\n",
       "    <tr>\n",
       "      <th>1964</th>\n",
       "      <td>4</td>\n",
       "      <td>1</td>\n",
       "    </tr>\n",
       "    <tr>\n",
       "      <th>1965</th>\n",
       "      <td>6</td>\n",
       "      <td>1</td>\n",
       "    </tr>\n",
       "    <tr>\n",
       "      <th>1966</th>\n",
       "      <td>9</td>\n",
       "      <td>4</td>\n",
       "    </tr>\n",
       "    <tr>\n",
       "      <th>1967</th>\n",
       "      <td>0</td>\n",
       "      <td>0</td>\n",
       "    </tr>\n",
       "    <tr>\n",
       "      <th>1967</th>\n",
       "      <td>6</td>\n",
       "      <td>3</td>\n",
       "    </tr>\n",
       "    <tr>\n",
       "      <th>1968</th>\n",
       "      <td>0</td>\n",
       "      <td>0</td>\n",
       "    </tr>\n",
       "    <tr>\n",
       "      <th>1968</th>\n",
       "      <td>6</td>\n",
       "      <td>2</td>\n",
       "    </tr>\n",
       "    <tr>\n",
       "      <th>1969</th>\n",
       "      <td>0</td>\n",
       "      <td>0</td>\n",
       "    </tr>\n",
       "    <tr>\n",
       "      <th>1970</th>\n",
       "      <td>0</td>\n",
       "      <td>0</td>\n",
       "    </tr>\n",
       "    <tr>\n",
       "      <th>1971</th>\n",
       "      <td>0</td>\n",
       "      <td>0</td>\n",
       "    </tr>\n",
       "    <tr>\n",
       "      <th>1972</th>\n",
       "      <td>0</td>\n",
       "      <td>0</td>\n",
       "    </tr>\n",
       "    <tr>\n",
       "      <th>1973</th>\n",
       "      <td>0</td>\n",
       "      <td>0</td>\n",
       "    </tr>\n",
       "    <tr>\n",
       "      <th>1974</th>\n",
       "      <td>2</td>\n",
       "      <td>1</td>\n",
       "    </tr>\n",
       "    <tr>\n",
       "      <th>1975</th>\n",
       "      <td>1</td>\n",
       "      <td>0</td>\n",
       "    </tr>\n",
       "    <tr>\n",
       "      <th>1976</th>\n",
       "      <td>2</td>\n",
       "      <td>0</td>\n",
       "    </tr>\n",
       "    <tr>\n",
       "      <th>1977</th>\n",
       "      <td>3</td>\n",
       "      <td>2</td>\n",
       "    </tr>\n",
       "    <tr>\n",
       "      <th>1978</th>\n",
       "      <td>2</td>\n",
       "      <td>0</td>\n",
       "    </tr>\n",
       "    <tr>\n",
       "      <th>1979</th>\n",
       "      <td>4</td>\n",
       "      <td>1</td>\n",
       "    </tr>\n",
       "    <tr>\n",
       "      <th>1980</th>\n",
       "      <td>3</td>\n",
       "      <td>3</td>\n",
       "    </tr>\n",
       "    <tr>\n",
       "      <th>1981</th>\n",
       "      <td>3</td>\n",
       "      <td>1</td>\n",
       "    </tr>\n",
       "    <tr>\n",
       "      <th>1982</th>\n",
       "      <td>2</td>\n",
       "      <td>1</td>\n",
       "    </tr>\n",
       "    <tr>\n",
       "      <th>1983</th>\n",
       "      <td>4</td>\n",
       "      <td>2</td>\n",
       "    </tr>\n",
       "    <tr>\n",
       "      <th>1984</th>\n",
       "      <td>1</td>\n",
       "      <td>0</td>\n",
       "    </tr>\n",
       "    <tr>\n",
       "      <th>1985</th>\n",
       "      <td>7</td>\n",
       "      <td>6</td>\n",
       "    </tr>\n",
       "    <tr>\n",
       "      <th>1986</th>\n",
       "      <td>8</td>\n",
       "      <td>7</td>\n",
       "    </tr>\n",
       "    <tr>\n",
       "      <th>1987</th>\n",
       "      <td>1</td>\n",
       "      <td>0</td>\n",
       "    </tr>\n",
       "    <tr>\n",
       "      <th>1988</th>\n",
       "      <td>2</td>\n",
       "      <td>1</td>\n",
       "    </tr>\n",
       "    <tr>\n",
       "      <th>1989</th>\n",
       "      <td>1</td>\n",
       "      <td>0</td>\n",
       "    </tr>\n",
       "    <tr>\n",
       "      <th>1990</th>\n",
       "      <td>2</td>\n",
       "      <td>0</td>\n",
       "    </tr>\n",
       "    <tr>\n",
       "      <th>1991</th>\n",
       "      <td>1</td>\n",
       "      <td>0</td>\n",
       "    </tr>\n",
       "    <tr>\n",
       "      <th>1992</th>\n",
       "      <td>5</td>\n",
       "      <td>2</td>\n",
       "    </tr>\n",
       "    <tr>\n",
       "      <th>1993</th>\n",
       "      <td>3</td>\n",
       "      <td>0</td>\n",
       "    </tr>\n",
       "    <tr>\n",
       "      <th>1994</th>\n",
       "      <td>4</td>\n",
       "      <td>2</td>\n",
       "    </tr>\n",
       "    <tr>\n",
       "      <th>1995</th>\n",
       "      <td>3</td>\n",
       "      <td>2</td>\n",
       "    </tr>\n",
       "    <tr>\n",
       "      <th>1996</th>\n",
       "      <td>2</td>\n",
       "      <td>2</td>\n",
       "    </tr>\n",
       "    <tr>\n",
       "      <th>1997</th>\n",
       "      <td>0</td>\n",
       "      <td>0</td>\n",
       "    </tr>\n",
       "    <tr>\n",
       "      <th>1998</th>\n",
       "      <td>5</td>\n",
       "      <td>3</td>\n",
       "    </tr>\n",
       "    <tr>\n",
       "      <th>1999</th>\n",
       "      <td>4</td>\n",
       "      <td>3</td>\n",
       "    </tr>\n",
       "    <tr>\n",
       "      <th>2000</th>\n",
       "      <td>4</td>\n",
       "      <td>2</td>\n",
       "    </tr>\n",
       "    <tr>\n",
       "      <th>2001</th>\n",
       "      <td>5</td>\n",
       "      <td>2</td>\n",
       "    </tr>\n",
       "    <tr>\n",
       "      <th>2002</th>\n",
       "      <td>5</td>\n",
       "      <td>2</td>\n",
       "    </tr>\n",
       "  </tbody>\n",
       "</table>\n",
       "</div>"
      ],
      "text/plain": [
       "      gols camp  gols vice\n",
       "Ano                       \n",
       "1959          6          5\n",
       "1960         11          3\n",
       "1961          6          2\n",
       "1962         10          6\n",
       "1963          8          0\n",
       "1964          4          1\n",
       "1965          6          1\n",
       "1966          9          4\n",
       "1967          0          0\n",
       "1967          6          3\n",
       "1968          0          0\n",
       "1968          6          2\n",
       "1969          0          0\n",
       "1970          0          0\n",
       "1971          0          0\n",
       "1972          0          0\n",
       "1973          0          0\n",
       "1974          2          1\n",
       "1975          1          0\n",
       "1976          2          0\n",
       "1977          3          2\n",
       "1978          2          0\n",
       "1979          4          1\n",
       "1980          3          3\n",
       "1981          3          1\n",
       "1982          2          1\n",
       "1983          4          2\n",
       "1984          1          0\n",
       "1985          7          6\n",
       "1986          8          7\n",
       "1987          1          0\n",
       "1988          2          1\n",
       "1989          1          0\n",
       "1990          2          0\n",
       "1991          1          0\n",
       "1992          5          2\n",
       "1993          3          0\n",
       "1994          4          2\n",
       "1995          3          2\n",
       "1996          2          2\n",
       "1997          0          0\n",
       "1998          5          3\n",
       "1999          4          3\n",
       "2000          4          2\n",
       "2001          5          2\n",
       "2002          5          2"
      ]
     },
     "execution_count": 94,
     "metadata": {
      "tags": []
     },
     "output_type": "execute_result"
    }
   ],
   "source": [
    "campeoes.loc[:2002]['Placar(es)'].apply(fix_placar)\\\n",
    "                                 .apply(pd.Series)\\\n",
    "                                 .rename(columns={0: 'gols camp', 1: 'gols vice'})"
   ]
  },
  {
   "cell_type": "code",
   "execution_count": 95,
   "metadata": {
    "colab": {
     "autoexec": {
      "startup": false,
      "wait_interval": 0
     },
     "base_uri": "https://localhost:8080/",
     "height": 235
    },
    "colab_type": "code",
    "executionInfo": {
     "elapsed": 807,
     "status": "ok",
     "timestamp": 1525350814797,
     "user": {
      "displayName": "Ricardo Giglio",
      "photoUrl": "//lh5.googleusercontent.com/-XXIBh2ygfV8/AAAAAAAAAAI/AAAAAAAABeQ/Cqp9q6vwYC8/s50-c-k-no/photo.jpg",
      "userId": "103467249143120035492"
     },
     "user_tz": 180
    },
    "id": "8xlIL6bc9NVu",
    "outputId": "49d03b4f-3b80-4385-bf08-5974ded0434b"
   },
   "outputs": [
    {
     "data": {
      "text/html": [
       "<div>\n",
       "<style scoped>\n",
       "    .dataframe tbody tr th:only-of-type {\n",
       "        vertical-align: middle;\n",
       "    }\n",
       "\n",
       "    .dataframe tbody tr th {\n",
       "        vertical-align: top;\n",
       "    }\n",
       "\n",
       "    .dataframe thead th {\n",
       "        text-align: right;\n",
       "    }\n",
       "</style>\n",
       "<table border=\"1\" class=\"dataframe\">\n",
       "  <thead>\n",
       "    <tr style=\"text-align: right;\">\n",
       "      <th></th>\n",
       "      <th>Campeão</th>\n",
       "      <th>Placar(es)</th>\n",
       "      <th>Vice</th>\n",
       "      <th>3.º lugar</th>\n",
       "      <th>4.º lugar</th>\n",
       "      <th>gols camp</th>\n",
       "      <th>gols vice</th>\n",
       "    </tr>\n",
       "    <tr>\n",
       "      <th>Ano</th>\n",
       "      <th></th>\n",
       "      <th></th>\n",
       "      <th></th>\n",
       "      <th></th>\n",
       "      <th></th>\n",
       "      <th></th>\n",
       "      <th></th>\n",
       "    </tr>\n",
       "  </thead>\n",
       "  <tbody>\n",
       "    <tr>\n",
       "      <th>1959</th>\n",
       "      <td>Bahia</td>\n",
       "      <td>3 – 2 0 – 2 3 – 1</td>\n",
       "      <td>Santos</td>\n",
       "      <td>Grêmio</td>\n",
       "      <td>Vasco da Gama</td>\n",
       "      <td>6</td>\n",
       "      <td>5</td>\n",
       "    </tr>\n",
       "    <tr>\n",
       "      <th>1960</th>\n",
       "      <td>Palmeiras</td>\n",
       "      <td>3 – 1 8 – 2</td>\n",
       "      <td>Fortaleza</td>\n",
       "      <td>Fluminense</td>\n",
       "      <td>Santa Cruz</td>\n",
       "      <td>11</td>\n",
       "      <td>3</td>\n",
       "    </tr>\n",
       "    <tr>\n",
       "      <th>1961</th>\n",
       "      <td>Santos</td>\n",
       "      <td>1 – 1 5 – 1</td>\n",
       "      <td>Bahia</td>\n",
       "      <td>America</td>\n",
       "      <td>Náutico</td>\n",
       "      <td>6</td>\n",
       "      <td>2</td>\n",
       "    </tr>\n",
       "    <tr>\n",
       "      <th>1962</th>\n",
       "      <td>Santos</td>\n",
       "      <td>4 – 3 1 – 3 5 – 0</td>\n",
       "      <td>Botafogo</td>\n",
       "      <td>Internacional</td>\n",
       "      <td>Sport</td>\n",
       "      <td>10</td>\n",
       "      <td>6</td>\n",
       "    </tr>\n",
       "    <tr>\n",
       "      <th>1963</th>\n",
       "      <td>Santos</td>\n",
       "      <td>6 – 0 2 – 0</td>\n",
       "      <td>Bahia</td>\n",
       "      <td>Grêmio</td>\n",
       "      <td>Botafogo</td>\n",
       "      <td>8</td>\n",
       "      <td>0</td>\n",
       "    </tr>\n",
       "  </tbody>\n",
       "</table>\n",
       "</div>"
      ],
      "text/plain": [
       "        Campeão         Placar(es)       Vice      3.º lugar      4.º lugar  \\\n",
       "Ano                                                                           \n",
       "1959      Bahia  3 – 2 0 – 2 3 – 1     Santos         Grêmio  Vasco da Gama   \n",
       "1960  Palmeiras        3 – 1 8 – 2  Fortaleza     Fluminense     Santa Cruz   \n",
       "1961     Santos        1 – 1 5 – 1      Bahia        America        Náutico   \n",
       "1962     Santos  4 – 3 1 – 3 5 – 0   Botafogo  Internacional          Sport   \n",
       "1963     Santos        6 – 0 2 – 0      Bahia         Grêmio       Botafogo   \n",
       "\n",
       "      gols camp  gols vice  \n",
       "Ano                         \n",
       "1959          6          5  \n",
       "1960         11          3  \n",
       "1961          6          2  \n",
       "1962         10          6  \n",
       "1963          8          0  "
      ]
     },
     "execution_count": 95,
     "metadata": {
      "tags": []
     },
     "output_type": "execute_result"
    }
   ],
   "source": [
    "pd.concat([campeoes.loc[:2002],\n",
    "           campeoes.loc[:2002]['Placar(es)'].apply(fix_placar)\\\n",
    "                                            .apply(pd.Series)\\\n",
    "                                            .rename(columns={0: 'gols camp',\n",
    "                                                             1: 'gols vice'})],\n",
    "          axis=1).head()"
   ]
  },
  {
   "cell_type": "code",
   "execution_count": 0,
   "metadata": {
    "colab": {
     "autoexec": {
      "startup": false,
      "wait_interval": 0
     }
    },
    "colab_type": "code",
    "id": "XgbVJQc3_G8G"
   },
   "outputs": [],
   "source": [
    "tmp = pd.concat([campeoes.loc[:2002],\n",
    "                 campeoes.loc[:2002]['Placar(es)'].apply(fix_placar)\\\n",
    "                                                  .apply(pd.Series)\\\n",
    "                                                  .rename(columns={0: 'gols camp',\n",
    "                                                                   1: 'gols vice'})],\n",
    "                axis=1)"
   ]
  },
  {
   "cell_type": "code",
   "execution_count": 101,
   "metadata": {
    "colab": {
     "autoexec": {
      "startup": false,
      "wait_interval": 0
     },
     "base_uri": "https://localhost:8080/",
     "height": 340
    },
    "colab_type": "code",
    "executionInfo": {
     "elapsed": 587,
     "status": "ok",
     "timestamp": 1525350842273,
     "user": {
      "displayName": "Ricardo Giglio",
      "photoUrl": "//lh5.googleusercontent.com/-XXIBh2ygfV8/AAAAAAAAAAI/AAAAAAAABeQ/Cqp9q6vwYC8/s50-c-k-no/photo.jpg",
      "userId": "103467249143120035492"
     },
     "user_tz": 180
    },
    "id": "OxxtNmXH_fKw",
    "outputId": "a1f954e0-767a-4fbc-8f1b-32c98fefd6f7"
   },
   "outputs": [
    {
     "data": {
      "text/plain": [
       "Campeão\n",
       "Atlético Mineiro        0\n",
       "Atlético Paranaense     5\n",
       "Bahia                   8\n",
       "Botafogo                9\n",
       "Corinthians            11\n",
       "Coritiba                7\n",
       "Cruzeiro                9\n",
       "Flamengo               14\n",
       "Fluminense              1\n",
       "Grêmio                  5\n",
       "Guarani                 2\n",
       "Internacional           7\n",
       "Palmeiras              24\n",
       "Santos                 39\n",
       "Sport                   1\n",
       "São Paulo              12\n",
       "Vasco da Gama           7\n",
       "Name: gols camp, dtype: int64"
      ]
     },
     "execution_count": 101,
     "metadata": {
      "tags": []
     },
     "output_type": "execute_result"
    }
   ],
   "source": [
    "tmp.groupby('Campeão')['gols camp'].sum()"
   ]
  },
  {
   "cell_type": "code",
   "execution_count": 103,
   "metadata": {
    "colab": {
     "autoexec": {
      "startup": false,
      "wait_interval": 0
     },
     "base_uri": "https://localhost:8080/",
     "height": 391
    },
    "colab_type": "code",
    "executionInfo": {
     "elapsed": 608,
     "status": "ok",
     "timestamp": 1525350876868,
     "user": {
      "displayName": "Ricardo Giglio",
      "photoUrl": "//lh5.googleusercontent.com/-XXIBh2ygfV8/AAAAAAAAAAI/AAAAAAAABeQ/Cqp9q6vwYC8/s50-c-k-no/photo.jpg",
      "userId": "103467249143120035492"
     },
     "user_tz": 180
    },
    "id": "ItXD9zX8_oCP",
    "outputId": "11f95f10-0c6a-4c85-dda0-fe68db414359"
   },
   "outputs": [
    {
     "data": {
      "text/plain": [
       "Vice\n",
       "Atlético Mineiro     8\n",
       "Bahia                2\n",
       "Bangu                6\n",
       "Botafogo             8\n",
       "Bragantino           0\n",
       "Corinthians          4\n",
       "Cruzeiro             4\n",
       "Flamengo             1\n",
       "Fortaleza            5\n",
       "Grêmio               1\n",
       "Guarani              7\n",
       "Internacional        1\n",
       "Náutico              3\n",
       "Palmeiras            0\n",
       "Portuguesa           2\n",
       "Santos              13\n",
       "São Caetano          4\n",
       "São Paulo            1\n",
       "Vasco da Gama        2\n",
       "Vitória              0\n",
       "Name: gols vice, dtype: int64"
      ]
     },
     "execution_count": 103,
     "metadata": {
      "tags": []
     },
     "output_type": "execute_result"
    }
   ],
   "source": [
    "tmp.groupby('Vice')['gols vice'].sum()"
   ]
  },
  {
   "cell_type": "code",
   "execution_count": 106,
   "metadata": {
    "colab": {
     "autoexec": {
      "startup": false,
      "wait_interval": 0
     },
     "base_uri": "https://localhost:8080/",
     "height": 442
    },
    "colab_type": "code",
    "executionInfo": {
     "elapsed": 611,
     "status": "ok",
     "timestamp": 1525350905659,
     "user": {
      "displayName": "Ricardo Giglio",
      "photoUrl": "//lh5.googleusercontent.com/-XXIBh2ygfV8/AAAAAAAAAAI/AAAAAAAABeQ/Cqp9q6vwYC8/s50-c-k-no/photo.jpg",
      "userId": "103467249143120035492"
     },
     "user_tz": 180
    },
    "id": "VM5e34I__ug1",
    "outputId": "498f57c3-ea33-4c68-8373-7982b9ff3ed4"
   },
   "outputs": [
    {
     "data": {
      "text/plain": [
       "Santos                 52.0\n",
       "Palmeiras              24.0\n",
       "Botafogo               17.0\n",
       "Corinthians            15.0\n",
       "Flamengo               15.0\n",
       "São Paulo              13.0\n",
       "Cruzeiro               13.0\n",
       "Bahia                  10.0\n",
       "Guarani                 9.0\n",
       "Vasco da Gama           9.0\n",
       "Atlético Mineiro        8.0\n",
       "Internacional           8.0\n",
       "Coritiba                7.0\n",
       "Bangu                   6.0\n",
       "Grêmio                  6.0\n",
       "Atlético Paranaense     5.0\n",
       "Fortaleza               5.0\n",
       "São Caetano             4.0\n",
       "Náutico                 3.0\n",
       "Portuguesa              2.0\n",
       "Fluminense              1.0\n",
       "Sport                   1.0\n",
       "Bragantino              0.0\n",
       "Vitória                 0.0\n",
       "dtype: float64"
      ]
     },
     "execution_count": 106,
     "metadata": {
      "tags": []
     },
     "output_type": "execute_result"
    }
   ],
   "source": [
    "pd.concat([tmp.groupby('Campeão')['gols camp'].sum(),\n",
    "           tmp.groupby('Vice')['gols vice'].sum()],\n",
    "          axis=1).sum(axis=1).sort_values(ascending=False)"
   ]
  },
  {
   "cell_type": "markdown",
   "metadata": {
    "colab_type": "text",
    "id": "5UgxSeaF_8uZ"
   },
   "source": [
    "## Quem mais tomou gols em finais?"
   ]
  },
  {
   "cell_type": "code",
   "execution_count": 107,
   "metadata": {
    "colab": {
     "autoexec": {
      "startup": false,
      "wait_interval": 0
     },
     "base_uri": "https://localhost:8080/",
     "height": 442
    },
    "colab_type": "code",
    "executionInfo": {
     "elapsed": 565,
     "status": "ok",
     "timestamp": 1525350931932,
     "user": {
      "displayName": "Ricardo Giglio",
      "photoUrl": "//lh5.googleusercontent.com/-XXIBh2ygfV8/AAAAAAAAAAI/AAAAAAAABeQ/Cqp9q6vwYC8/s50-c-k-no/photo.jpg",
      "userId": "103467249143120035492"
     },
     "user_tz": 180
    },
    "id": "kTDe3eOK_2MJ",
    "outputId": "95668f13-4b75-455a-8226-ed36825a9636"
   },
   "outputs": [
    {
     "data": {
      "text/plain": [
       "Santos                 34.0\n",
       "Bahia                  20.0\n",
       "Botafogo               19.0\n",
       "Fortaleza              17.0\n",
       "Corinthians            17.0\n",
       "São Paulo              15.0\n",
       "Vasco da Gama          14.0\n",
       "Cruzeiro               12.0\n",
       "Flamengo               12.0\n",
       "Atlético Mineiro       10.0\n",
       "Palmeiras              10.0\n",
       "Guarani                 9.0\n",
       "São Caetano             9.0\n",
       "Bangu                   7.0\n",
       "Náutico                 6.0\n",
       "Coritiba                6.0\n",
       "Grêmio                  5.0\n",
       "Internacional           3.0\n",
       "Vitória                 3.0\n",
       "Portuguesa              2.0\n",
       "Atlético Paranaense     2.0\n",
       "Bragantino              1.0\n",
       "Fluminense              0.0\n",
       "Sport                   0.0\n",
       "dtype: float64"
      ]
     },
     "execution_count": 107,
     "metadata": {
      "tags": []
     },
     "output_type": "execute_result"
    }
   ],
   "source": [
    "pd.concat([tmp.groupby('Campeão')['gols vice'].sum(),\n",
    "           tmp.groupby('Vice')['gols camp'].sum()],\n",
    "          axis=1).sum(axis=1).sort_values(ascending=False)"
   ]
  },
  {
   "cell_type": "markdown",
   "metadata": {
    "colab_type": "text",
    "id": "usAlY3DDERTF"
   },
   "source": [
    "# Agora vamos ver outra tabela, sobre a época dos pontos corridos."
   ]
  },
  {
   "cell_type": "code",
   "execution_count": 119,
   "metadata": {
    "colab": {
     "autoexec": {
      "startup": false,
      "wait_interval": 0
     },
     "base_uri": "https://localhost:8080/",
     "height": 204
    },
    "colab_type": "code",
    "executionInfo": {
     "elapsed": 635,
     "status": "ok",
     "timestamp": 1525352037533,
     "user": {
      "displayName": "Ricardo Giglio",
      "photoUrl": "//lh5.googleusercontent.com/-XXIBh2ygfV8/AAAAAAAAAAI/AAAAAAAABeQ/Cqp9q6vwYC8/s50-c-k-no/photo.jpg",
      "userId": "103467249143120035492"
     },
     "user_tz": 180
    },
    "id": "0pE1i9qRABtN",
    "outputId": "5e8a5189-7c18-4227-a6e3-c076960ea296"
   },
   "outputs": [
    {
     "data": {
      "text/html": [
       "<div>\n",
       "<style scoped>\n",
       "    .dataframe tbody tr th:only-of-type {\n",
       "        vertical-align: middle;\n",
       "    }\n",
       "\n",
       "    .dataframe tbody tr th {\n",
       "        vertical-align: top;\n",
       "    }\n",
       "\n",
       "    .dataframe thead th {\n",
       "        text-align: right;\n",
       "    }\n",
       "</style>\n",
       "<table border=\"1\" class=\"dataframe\">\n",
       "  <thead>\n",
       "    <tr style=\"text-align: right;\">\n",
       "      <th></th>\n",
       "      <th>0</th>\n",
       "      <th>1</th>\n",
       "      <th>2</th>\n",
       "      <th>3</th>\n",
       "      <th>4</th>\n",
       "      <th>5</th>\n",
       "      <th>6</th>\n",
       "      <th>7</th>\n",
       "      <th>8</th>\n",
       "      <th>9</th>\n",
       "      <th>10</th>\n",
       "      <th>11</th>\n",
       "      <th>12</th>\n",
       "      <th>13</th>\n",
       "      <th>14</th>\n",
       "      <th>15</th>\n",
       "      <th>16</th>\n",
       "      <th>17</th>\n",
       "      <th>18</th>\n",
       "    </tr>\n",
       "  </thead>\n",
       "  <tbody>\n",
       "    <tr>\n",
       "      <th>0</th>\n",
       "      <td>Pos</td>\n",
       "      <td>Equipes</td>\n",
       "      <td>Temp.</td>\n",
       "      <td>Pts</td>\n",
       "      <td>J</td>\n",
       "      <td>V</td>\n",
       "      <td>E</td>\n",
       "      <td>D</td>\n",
       "      <td>GP</td>\n",
       "      <td>GC</td>\n",
       "      <td>SG</td>\n",
       "      <td>%</td>\n",
       "      <td>1º</td>\n",
       "      <td>2º</td>\n",
       "      <td>3º</td>\n",
       "      <td>4º</td>\n",
       "      <td>R</td>\n",
       "      <td>Média</td>\n",
       "      <td>Melhor</td>\n",
       "    </tr>\n",
       "    <tr>\n",
       "      <th>1</th>\n",
       "      <td>1</td>\n",
       "      <td>São Paulo</td>\n",
       "      <td>15</td>\n",
       "      <td>977</td>\n",
       "      <td>590</td>\n",
       "      <td>276</td>\n",
       "      <td>149</td>\n",
       "      <td>165</td>\n",
       "      <td>893</td>\n",
       "      <td>655</td>\n",
       "      <td>+238</td>\n",
       "      <td>552</td>\n",
       "      <td>3</td>\n",
       "      <td>1</td>\n",
       "      <td>3</td>\n",
       "      <td>2</td>\n",
       "      <td>0</td>\n",
       "      <td>651</td>\n",
       "      <td>01 !1º</td>\n",
       "    </tr>\n",
       "    <tr>\n",
       "      <th>2</th>\n",
       "      <td>2</td>\n",
       "      <td>Cruzeiro</td>\n",
       "      <td>15</td>\n",
       "      <td>941</td>\n",
       "      <td>590</td>\n",
       "      <td>272</td>\n",
       "      <td>125</td>\n",
       "      <td>193</td>\n",
       "      <td>917</td>\n",
       "      <td>738</td>\n",
       "      <td>+179</td>\n",
       "      <td>531</td>\n",
       "      <td>3</td>\n",
       "      <td>1</td>\n",
       "      <td>1</td>\n",
       "      <td>1</td>\n",
       "      <td>0</td>\n",
       "      <td>627</td>\n",
       "      <td>01 !1º</td>\n",
       "    </tr>\n",
       "    <tr>\n",
       "      <th>3</th>\n",
       "      <td>3</td>\n",
       "      <td>Santos</td>\n",
       "      <td>15</td>\n",
       "      <td>919</td>\n",
       "      <td>590</td>\n",
       "      <td>256</td>\n",
       "      <td>151</td>\n",
       "      <td>183</td>\n",
       "      <td>902</td>\n",
       "      <td>713</td>\n",
       "      <td>+189</td>\n",
       "      <td>519</td>\n",
       "      <td>1</td>\n",
       "      <td>3</td>\n",
       "      <td>1</td>\n",
       "      <td>1</td>\n",
       "      <td>0</td>\n",
       "      <td>613</td>\n",
       "      <td>01 !1º</td>\n",
       "    </tr>\n",
       "    <tr>\n",
       "      <th>4</th>\n",
       "      <td>4</td>\n",
       "      <td>Corinthians</td>\n",
       "      <td>14</td>\n",
       "      <td>886</td>\n",
       "      <td>552</td>\n",
       "      <td>243</td>\n",
       "      <td>155</td>\n",
       "      <td>154</td>\n",
       "      <td>747</td>\n",
       "      <td>598</td>\n",
       "      <td>+149</td>\n",
       "      <td>535</td>\n",
       "      <td>4</td>\n",
       "      <td>0</td>\n",
       "      <td>1</td>\n",
       "      <td>1</td>\n",
       "      <td>1</td>\n",
       "      <td>631</td>\n",
       "      <td>01 !1º</td>\n",
       "    </tr>\n",
       "  </tbody>\n",
       "</table>\n",
       "</div>"
      ],
      "text/plain": [
       "    0            1      2    3    4    5    6    7    8    9     10   11  12  \\\n",
       "0  Pos      Equipes  Temp.  Pts    J    V    E    D   GP   GC    SG    %  1º   \n",
       "1    1    São Paulo     15  977  590  276  149  165  893  655  +238  552   3   \n",
       "2    2     Cruzeiro     15  941  590  272  125  193  917  738  +179  531   3   \n",
       "3    3       Santos     15  919  590  256  151  183  902  713  +189  519   1   \n",
       "4    4  Corinthians     14  886  552  243  155  154  747  598  +149  535   4   \n",
       "\n",
       "   13  14  15 16     17      18  \n",
       "0  2º  3º  4º  R  Média  Melhor  \n",
       "1   1   3   2  0    651  01 !1º  \n",
       "2   1   1   1  0    627  01 !1º  \n",
       "3   3   1   1  0    613  01 !1º  \n",
       "4   0   1   1  1    631  01 !1º  "
      ]
     },
     "execution_count": 119,
     "metadata": {
      "tags": []
     },
     "output_type": "execute_result"
    }
   ],
   "source": [
    "dfs[20].head()"
   ]
  },
  {
   "cell_type": "code",
   "execution_count": 121,
   "metadata": {
    "colab": {
     "autoexec": {
      "startup": false,
      "wait_interval": 0
     },
     "base_uri": "https://localhost:8080/",
     "height": 204
    },
    "colab_type": "code",
    "executionInfo": {
     "elapsed": 764,
     "status": "ok",
     "timestamp": 1525352092095,
     "user": {
      "displayName": "Ricardo Giglio",
      "photoUrl": "//lh5.googleusercontent.com/-XXIBh2ygfV8/AAAAAAAAAAI/AAAAAAAABeQ/Cqp9q6vwYC8/s50-c-k-no/photo.jpg",
      "userId": "103467249143120035492"
     },
     "user_tz": 180
    },
    "id": "Z9kM9JDnBCzB",
    "outputId": "4bf4facb-4491-4da3-b6eb-53e66d6346e2"
   },
   "outputs": [
    {
     "data": {
      "text/html": [
       "<div>\n",
       "<style scoped>\n",
       "    .dataframe tbody tr th:only-of-type {\n",
       "        vertical-align: middle;\n",
       "    }\n",
       "\n",
       "    .dataframe tbody tr th {\n",
       "        vertical-align: top;\n",
       "    }\n",
       "\n",
       "    .dataframe thead th {\n",
       "        text-align: right;\n",
       "    }\n",
       "</style>\n",
       "<table border=\"1\" class=\"dataframe\">\n",
       "  <thead>\n",
       "    <tr style=\"text-align: right;\">\n",
       "      <th></th>\n",
       "      <th>Pos</th>\n",
       "      <th>Equipes</th>\n",
       "      <th>Temp.</th>\n",
       "      <th>Pts</th>\n",
       "      <th>J</th>\n",
       "      <th>V</th>\n",
       "      <th>E</th>\n",
       "      <th>D</th>\n",
       "      <th>GP</th>\n",
       "      <th>GC</th>\n",
       "      <th>SG</th>\n",
       "      <th>%</th>\n",
       "      <th>1º</th>\n",
       "      <th>2º</th>\n",
       "      <th>3º</th>\n",
       "      <th>4º</th>\n",
       "      <th>R</th>\n",
       "      <th>Média</th>\n",
       "      <th>Melhor</th>\n",
       "    </tr>\n",
       "  </thead>\n",
       "  <tbody>\n",
       "    <tr>\n",
       "      <th>1</th>\n",
       "      <td>1</td>\n",
       "      <td>São Paulo</td>\n",
       "      <td>15</td>\n",
       "      <td>977</td>\n",
       "      <td>590</td>\n",
       "      <td>276</td>\n",
       "      <td>149</td>\n",
       "      <td>165</td>\n",
       "      <td>893</td>\n",
       "      <td>655</td>\n",
       "      <td>+238</td>\n",
       "      <td>552</td>\n",
       "      <td>3</td>\n",
       "      <td>1</td>\n",
       "      <td>3</td>\n",
       "      <td>2</td>\n",
       "      <td>0</td>\n",
       "      <td>651</td>\n",
       "      <td>01 !1º</td>\n",
       "    </tr>\n",
       "    <tr>\n",
       "      <th>2</th>\n",
       "      <td>2</td>\n",
       "      <td>Cruzeiro</td>\n",
       "      <td>15</td>\n",
       "      <td>941</td>\n",
       "      <td>590</td>\n",
       "      <td>272</td>\n",
       "      <td>125</td>\n",
       "      <td>193</td>\n",
       "      <td>917</td>\n",
       "      <td>738</td>\n",
       "      <td>+179</td>\n",
       "      <td>531</td>\n",
       "      <td>3</td>\n",
       "      <td>1</td>\n",
       "      <td>1</td>\n",
       "      <td>1</td>\n",
       "      <td>0</td>\n",
       "      <td>627</td>\n",
       "      <td>01 !1º</td>\n",
       "    </tr>\n",
       "    <tr>\n",
       "      <th>3</th>\n",
       "      <td>3</td>\n",
       "      <td>Santos</td>\n",
       "      <td>15</td>\n",
       "      <td>919</td>\n",
       "      <td>590</td>\n",
       "      <td>256</td>\n",
       "      <td>151</td>\n",
       "      <td>183</td>\n",
       "      <td>902</td>\n",
       "      <td>713</td>\n",
       "      <td>+189</td>\n",
       "      <td>519</td>\n",
       "      <td>1</td>\n",
       "      <td>3</td>\n",
       "      <td>1</td>\n",
       "      <td>1</td>\n",
       "      <td>0</td>\n",
       "      <td>613</td>\n",
       "      <td>01 !1º</td>\n",
       "    </tr>\n",
       "    <tr>\n",
       "      <th>4</th>\n",
       "      <td>4</td>\n",
       "      <td>Corinthians</td>\n",
       "      <td>14</td>\n",
       "      <td>886</td>\n",
       "      <td>552</td>\n",
       "      <td>243</td>\n",
       "      <td>155</td>\n",
       "      <td>154</td>\n",
       "      <td>747</td>\n",
       "      <td>598</td>\n",
       "      <td>+149</td>\n",
       "      <td>535</td>\n",
       "      <td>4</td>\n",
       "      <td>0</td>\n",
       "      <td>1</td>\n",
       "      <td>1</td>\n",
       "      <td>1</td>\n",
       "      <td>631</td>\n",
       "      <td>01 !1º</td>\n",
       "    </tr>\n",
       "    <tr>\n",
       "      <th>5</th>\n",
       "      <td>5</td>\n",
       "      <td>Internacional</td>\n",
       "      <td>14</td>\n",
       "      <td>849</td>\n",
       "      <td>552</td>\n",
       "      <td>237</td>\n",
       "      <td>136</td>\n",
       "      <td>179</td>\n",
       "      <td>738</td>\n",
       "      <td>632</td>\n",
       "      <td>+106</td>\n",
       "      <td>512</td>\n",
       "      <td>0</td>\n",
       "      <td>3</td>\n",
       "      <td>1</td>\n",
       "      <td>0</td>\n",
       "      <td>1</td>\n",
       "      <td>606</td>\n",
       "      <td>02 !2º</td>\n",
       "    </tr>\n",
       "  </tbody>\n",
       "</table>\n",
       "</div>"
      ],
      "text/plain": [
       "0 Pos        Equipes Temp.  Pts    J    V    E    D   GP   GC    SG    % 1º  \\\n",
       "1   1      São Paulo    15  977  590  276  149  165  893  655  +238  552  3   \n",
       "2   2       Cruzeiro    15  941  590  272  125  193  917  738  +179  531  3   \n",
       "3   3         Santos    15  919  590  256  151  183  902  713  +189  519  1   \n",
       "4   4    Corinthians    14  886  552  243  155  154  747  598  +149  535  4   \n",
       "5   5  Internacional    14  849  552  237  136  179  738  632  +106  512  0   \n",
       "\n",
       "0 2º 3º 4º  R Média  Melhor  \n",
       "1  1  3  2  0   651  01 !1º  \n",
       "2  1  1  1  0   627  01 !1º  \n",
       "3  3  1  1  0   613  01 !1º  \n",
       "4  0  1  1  1   631  01 !1º  \n",
       "5  3  1  0  1   606  02 !2º  "
      ]
     },
     "execution_count": 121,
     "metadata": {
      "tags": []
     },
     "output_type": "execute_result"
    }
   ],
   "source": [
    "corridos = dfs[20].copy()\n",
    "corridos.columns = corridos.iloc[0]\n",
    "corridos = corridos[1:]\n",
    "corridos.head()"
   ]
  },
  {
   "cell_type": "code",
   "execution_count": 123,
   "metadata": {
    "colab": {
     "autoexec": {
      "startup": false,
      "wait_interval": 0
     },
     "base_uri": "https://localhost:8080/",
     "height": 1082
    },
    "colab_type": "code",
    "executionInfo": {
     "elapsed": 627,
     "status": "error",
     "timestamp": 1525352171681,
     "user": {
      "displayName": "Ricardo Giglio",
      "photoUrl": "//lh5.googleusercontent.com/-XXIBh2ygfV8/AAAAAAAAAAI/AAAAAAAABeQ/Cqp9q6vwYC8/s50-c-k-no/photo.jpg",
      "userId": "103467249143120035492"
     },
     "user_tz": 180
    },
    "id": "xoGJmD_5Ebmf",
    "outputId": "32b572c0-f0c1-4d80-8ca5-a635f233f4c3"
   },
   "outputs": [
    {
     "ename": "ValueError",
     "evalue": "ignored",
     "output_type": "error",
     "traceback": [
      "\u001b[0;31m---------------------------------------------------------------------------\u001b[0m",
      "\u001b[0;31mValueError\u001b[0m                                Traceback (most recent call last)",
      "\u001b[0;32m<ipython-input-123-7a12f613e0bf>\u001b[0m in \u001b[0;36m<module>\u001b[0;34m()\u001b[0m\n\u001b[0;32m----> 1\u001b[0;31m \u001b[0mcorridos\u001b[0m\u001b[0;34m[\u001b[0m\u001b[0;34m'SG'\u001b[0m\u001b[0;34m]\u001b[0m \u001b[0;34m=\u001b[0m \u001b[0mcorridos\u001b[0m\u001b[0;34m[\u001b[0m\u001b[0;34m'SG'\u001b[0m\u001b[0;34m]\u001b[0m\u001b[0;34m.\u001b[0m\u001b[0mastype\u001b[0m\u001b[0;34m(\u001b[0m\u001b[0mint\u001b[0m\u001b[0;34m)\u001b[0m\u001b[0;34m\u001b[0m\u001b[0m\n\u001b[0m\u001b[1;32m      2\u001b[0m \u001b[0mcorridos\u001b[0m\u001b[0;34m.\u001b[0m\u001b[0msort_values\u001b[0m\u001b[0;34m(\u001b[0m\u001b[0mby\u001b[0m\u001b[0;34m=\u001b[0m\u001b[0;34m'SG'\u001b[0m\u001b[0;34m,\u001b[0m \u001b[0mascending\u001b[0m\u001b[0;34m=\u001b[0m\u001b[0;32mFalse\u001b[0m\u001b[0;34m)\u001b[0m\u001b[0;34m.\u001b[0m\u001b[0mhead\u001b[0m\u001b[0;34m(\u001b[0m\u001b[0;34m)\u001b[0m\u001b[0;34m\u001b[0m\u001b[0m\n",
      "\u001b[0;32m/usr/local/lib/python3.6/dist-packages/pandas/util/_decorators.py\u001b[0m in \u001b[0;36mwrapper\u001b[0;34m(*args, **kwargs)\u001b[0m\n\u001b[1;32m    116\u001b[0m                 \u001b[0;32melse\u001b[0m\u001b[0;34m:\u001b[0m\u001b[0;34m\u001b[0m\u001b[0m\n\u001b[1;32m    117\u001b[0m                     \u001b[0mkwargs\u001b[0m\u001b[0;34m[\u001b[0m\u001b[0mnew_arg_name\u001b[0m\u001b[0;34m]\u001b[0m \u001b[0;34m=\u001b[0m \u001b[0mnew_arg_value\u001b[0m\u001b[0;34m\u001b[0m\u001b[0m\n\u001b[0;32m--> 118\u001b[0;31m             \u001b[0;32mreturn\u001b[0m \u001b[0mfunc\u001b[0m\u001b[0;34m(\u001b[0m\u001b[0;34m*\u001b[0m\u001b[0margs\u001b[0m\u001b[0;34m,\u001b[0m \u001b[0;34m**\u001b[0m\u001b[0mkwargs\u001b[0m\u001b[0;34m)\u001b[0m\u001b[0;34m\u001b[0m\u001b[0m\n\u001b[0m\u001b[1;32m    119\u001b[0m         \u001b[0;32mreturn\u001b[0m \u001b[0mwrapper\u001b[0m\u001b[0;34m\u001b[0m\u001b[0m\n\u001b[1;32m    120\u001b[0m     \u001b[0;32mreturn\u001b[0m \u001b[0m_deprecate_kwarg\u001b[0m\u001b[0;34m\u001b[0m\u001b[0m\n",
      "\u001b[0;32m/usr/local/lib/python3.6/dist-packages/pandas/core/generic.py\u001b[0m in \u001b[0;36mastype\u001b[0;34m(self, dtype, copy, errors, **kwargs)\u001b[0m\n\u001b[1;32m   4002\u001b[0m         \u001b[0;31m# else, only a single dtype is given\u001b[0m\u001b[0;34m\u001b[0m\u001b[0;34m\u001b[0m\u001b[0m\n\u001b[1;32m   4003\u001b[0m         new_data = self._data.astype(dtype=dtype, copy=copy, errors=errors,\n\u001b[0;32m-> 4004\u001b[0;31m                                      **kwargs)\n\u001b[0m\u001b[1;32m   4005\u001b[0m         \u001b[0;32mreturn\u001b[0m \u001b[0mself\u001b[0m\u001b[0;34m.\u001b[0m\u001b[0m_constructor\u001b[0m\u001b[0;34m(\u001b[0m\u001b[0mnew_data\u001b[0m\u001b[0;34m)\u001b[0m\u001b[0;34m.\u001b[0m\u001b[0m__finalize__\u001b[0m\u001b[0;34m(\u001b[0m\u001b[0mself\u001b[0m\u001b[0;34m)\u001b[0m\u001b[0;34m\u001b[0m\u001b[0m\n\u001b[1;32m   4006\u001b[0m \u001b[0;34m\u001b[0m\u001b[0m\n",
      "\u001b[0;32m/usr/local/lib/python3.6/dist-packages/pandas/core/internals.py\u001b[0m in \u001b[0;36mastype\u001b[0;34m(self, dtype, **kwargs)\u001b[0m\n\u001b[1;32m   3460\u001b[0m \u001b[0;34m\u001b[0m\u001b[0m\n\u001b[1;32m   3461\u001b[0m     \u001b[0;32mdef\u001b[0m \u001b[0mastype\u001b[0m\u001b[0;34m(\u001b[0m\u001b[0mself\u001b[0m\u001b[0;34m,\u001b[0m \u001b[0mdtype\u001b[0m\u001b[0;34m,\u001b[0m \u001b[0;34m**\u001b[0m\u001b[0mkwargs\u001b[0m\u001b[0;34m)\u001b[0m\u001b[0;34m:\u001b[0m\u001b[0;34m\u001b[0m\u001b[0m\n\u001b[0;32m-> 3462\u001b[0;31m         \u001b[0;32mreturn\u001b[0m \u001b[0mself\u001b[0m\u001b[0;34m.\u001b[0m\u001b[0mapply\u001b[0m\u001b[0;34m(\u001b[0m\u001b[0;34m'astype'\u001b[0m\u001b[0;34m,\u001b[0m \u001b[0mdtype\u001b[0m\u001b[0;34m=\u001b[0m\u001b[0mdtype\u001b[0m\u001b[0;34m,\u001b[0m \u001b[0;34m**\u001b[0m\u001b[0mkwargs\u001b[0m\u001b[0;34m)\u001b[0m\u001b[0;34m\u001b[0m\u001b[0m\n\u001b[0m\u001b[1;32m   3463\u001b[0m \u001b[0;34m\u001b[0m\u001b[0m\n\u001b[1;32m   3464\u001b[0m     \u001b[0;32mdef\u001b[0m \u001b[0mconvert\u001b[0m\u001b[0;34m(\u001b[0m\u001b[0mself\u001b[0m\u001b[0;34m,\u001b[0m \u001b[0;34m**\u001b[0m\u001b[0mkwargs\u001b[0m\u001b[0;34m)\u001b[0m\u001b[0;34m:\u001b[0m\u001b[0;34m\u001b[0m\u001b[0m\n",
      "\u001b[0;32m/usr/local/lib/python3.6/dist-packages/pandas/core/internals.py\u001b[0m in \u001b[0;36mapply\u001b[0;34m(self, f, axes, filter, do_integrity_check, consolidate, **kwargs)\u001b[0m\n\u001b[1;32m   3327\u001b[0m \u001b[0;34m\u001b[0m\u001b[0m\n\u001b[1;32m   3328\u001b[0m             \u001b[0mkwargs\u001b[0m\u001b[0;34m[\u001b[0m\u001b[0;34m'mgr'\u001b[0m\u001b[0;34m]\u001b[0m \u001b[0;34m=\u001b[0m \u001b[0mself\u001b[0m\u001b[0;34m\u001b[0m\u001b[0m\n\u001b[0;32m-> 3329\u001b[0;31m             \u001b[0mapplied\u001b[0m \u001b[0;34m=\u001b[0m \u001b[0mgetattr\u001b[0m\u001b[0;34m(\u001b[0m\u001b[0mb\u001b[0m\u001b[0;34m,\u001b[0m \u001b[0mf\u001b[0m\u001b[0;34m)\u001b[0m\u001b[0;34m(\u001b[0m\u001b[0;34m**\u001b[0m\u001b[0mkwargs\u001b[0m\u001b[0;34m)\u001b[0m\u001b[0;34m\u001b[0m\u001b[0m\n\u001b[0m\u001b[1;32m   3330\u001b[0m             \u001b[0mresult_blocks\u001b[0m \u001b[0;34m=\u001b[0m \u001b[0m_extend_blocks\u001b[0m\u001b[0;34m(\u001b[0m\u001b[0mapplied\u001b[0m\u001b[0;34m,\u001b[0m \u001b[0mresult_blocks\u001b[0m\u001b[0;34m)\u001b[0m\u001b[0;34m\u001b[0m\u001b[0m\n\u001b[1;32m   3331\u001b[0m \u001b[0;34m\u001b[0m\u001b[0m\n",
      "\u001b[0;32m/usr/local/lib/python3.6/dist-packages/pandas/core/internals.py\u001b[0m in \u001b[0;36mastype\u001b[0;34m(self, dtype, copy, errors, values, **kwargs)\u001b[0m\n\u001b[1;32m    542\u001b[0m     \u001b[0;32mdef\u001b[0m \u001b[0mastype\u001b[0m\u001b[0;34m(\u001b[0m\u001b[0mself\u001b[0m\u001b[0;34m,\u001b[0m \u001b[0mdtype\u001b[0m\u001b[0;34m,\u001b[0m \u001b[0mcopy\u001b[0m\u001b[0;34m=\u001b[0m\u001b[0;32mFalse\u001b[0m\u001b[0;34m,\u001b[0m \u001b[0merrors\u001b[0m\u001b[0;34m=\u001b[0m\u001b[0;34m'raise'\u001b[0m\u001b[0;34m,\u001b[0m \u001b[0mvalues\u001b[0m\u001b[0;34m=\u001b[0m\u001b[0;32mNone\u001b[0m\u001b[0;34m,\u001b[0m \u001b[0;34m**\u001b[0m\u001b[0mkwargs\u001b[0m\u001b[0;34m)\u001b[0m\u001b[0;34m:\u001b[0m\u001b[0;34m\u001b[0m\u001b[0m\n\u001b[1;32m    543\u001b[0m         return self._astype(dtype, copy=copy, errors=errors, values=values,\n\u001b[0;32m--> 544\u001b[0;31m                             **kwargs)\n\u001b[0m\u001b[1;32m    545\u001b[0m \u001b[0;34m\u001b[0m\u001b[0m\n\u001b[1;32m    546\u001b[0m     def _astype(self, dtype, copy=False, errors='raise', values=None,\n",
      "\u001b[0;32m/usr/local/lib/python3.6/dist-packages/pandas/core/internals.py\u001b[0m in \u001b[0;36m_astype\u001b[0;34m(self, dtype, copy, errors, values, klass, mgr, **kwargs)\u001b[0m\n\u001b[1;32m    623\u001b[0m \u001b[0;34m\u001b[0m\u001b[0m\n\u001b[1;32m    624\u001b[0m                 \u001b[0;31m# _astype_nansafe works fine with 1-d only\u001b[0m\u001b[0;34m\u001b[0m\u001b[0;34m\u001b[0m\u001b[0m\n\u001b[0;32m--> 625\u001b[0;31m                 \u001b[0mvalues\u001b[0m \u001b[0;34m=\u001b[0m \u001b[0mastype_nansafe\u001b[0m\u001b[0;34m(\u001b[0m\u001b[0mvalues\u001b[0m\u001b[0;34m.\u001b[0m\u001b[0mravel\u001b[0m\u001b[0;34m(\u001b[0m\u001b[0;34m)\u001b[0m\u001b[0;34m,\u001b[0m \u001b[0mdtype\u001b[0m\u001b[0;34m,\u001b[0m \u001b[0mcopy\u001b[0m\u001b[0;34m=\u001b[0m\u001b[0;32mTrue\u001b[0m\u001b[0;34m)\u001b[0m\u001b[0;34m\u001b[0m\u001b[0m\n\u001b[0m\u001b[1;32m    626\u001b[0m                 \u001b[0mvalues\u001b[0m \u001b[0;34m=\u001b[0m \u001b[0mvalues\u001b[0m\u001b[0;34m.\u001b[0m\u001b[0mreshape\u001b[0m\u001b[0;34m(\u001b[0m\u001b[0mself\u001b[0m\u001b[0;34m.\u001b[0m\u001b[0mshape\u001b[0m\u001b[0;34m)\u001b[0m\u001b[0;34m\u001b[0m\u001b[0m\n\u001b[1;32m    627\u001b[0m \u001b[0;34m\u001b[0m\u001b[0m\n",
      "\u001b[0;32m/usr/local/lib/python3.6/dist-packages/pandas/core/dtypes/cast.py\u001b[0m in \u001b[0;36mastype_nansafe\u001b[0;34m(arr, dtype, copy)\u001b[0m\n\u001b[1;32m    690\u001b[0m     \u001b[0;32melif\u001b[0m \u001b[0marr\u001b[0m\u001b[0;34m.\u001b[0m\u001b[0mdtype\u001b[0m \u001b[0;34m==\u001b[0m \u001b[0mnp\u001b[0m\u001b[0;34m.\u001b[0m\u001b[0mobject_\u001b[0m \u001b[0;32mand\u001b[0m \u001b[0mnp\u001b[0m\u001b[0;34m.\u001b[0m\u001b[0missubdtype\u001b[0m\u001b[0;34m(\u001b[0m\u001b[0mdtype\u001b[0m\u001b[0;34m.\u001b[0m\u001b[0mtype\u001b[0m\u001b[0;34m,\u001b[0m \u001b[0mnp\u001b[0m\u001b[0;34m.\u001b[0m\u001b[0minteger\u001b[0m\u001b[0;34m)\u001b[0m\u001b[0;34m:\u001b[0m\u001b[0;34m\u001b[0m\u001b[0m\n\u001b[1;32m    691\u001b[0m         \u001b[0;31m# work around NumPy brokenness, #1987\u001b[0m\u001b[0;34m\u001b[0m\u001b[0;34m\u001b[0m\u001b[0m\n\u001b[0;32m--> 692\u001b[0;31m         \u001b[0;32mreturn\u001b[0m \u001b[0mlib\u001b[0m\u001b[0;34m.\u001b[0m\u001b[0mastype_intsafe\u001b[0m\u001b[0;34m(\u001b[0m\u001b[0marr\u001b[0m\u001b[0;34m.\u001b[0m\u001b[0mravel\u001b[0m\u001b[0;34m(\u001b[0m\u001b[0;34m)\u001b[0m\u001b[0;34m,\u001b[0m \u001b[0mdtype\u001b[0m\u001b[0;34m)\u001b[0m\u001b[0;34m.\u001b[0m\u001b[0mreshape\u001b[0m\u001b[0;34m(\u001b[0m\u001b[0marr\u001b[0m\u001b[0;34m.\u001b[0m\u001b[0mshape\u001b[0m\u001b[0;34m)\u001b[0m\u001b[0;34m\u001b[0m\u001b[0m\n\u001b[0m\u001b[1;32m    693\u001b[0m \u001b[0;34m\u001b[0m\u001b[0m\n\u001b[1;32m    694\u001b[0m     \u001b[0;32mif\u001b[0m \u001b[0mdtype\u001b[0m\u001b[0;34m.\u001b[0m\u001b[0mname\u001b[0m \u001b[0;32min\u001b[0m \u001b[0;34m(\u001b[0m\u001b[0;34m\"datetime64\"\u001b[0m\u001b[0;34m,\u001b[0m \u001b[0;34m\"timedelta64\"\u001b[0m\u001b[0;34m)\u001b[0m\u001b[0;34m:\u001b[0m\u001b[0;34m\u001b[0m\u001b[0m\n",
      "\u001b[0;32mpandas/_libs/lib.pyx\u001b[0m in \u001b[0;36mpandas._libs.lib.astype_intsafe\u001b[0;34m()\u001b[0m\n",
      "\u001b[0;32mpandas/_libs/src/util.pxd\u001b[0m in \u001b[0;36mutil.set_value_at_unsafe\u001b[0;34m()\u001b[0m\n",
      "\u001b[0;31mValueError\u001b[0m: invalid literal for int() with base 10: '–52'"
     ]
    }
   ],
   "source": [
    "corridos['SG'] = corridos['SG'].astype(int)\n",
    "corridos.sort_values(by='SG', ascending=False).head()"
   ]
  },
  {
   "cell_type": "code",
   "execution_count": 0,
   "metadata": {
    "colab": {
     "autoexec": {
      "startup": false,
      "wait_interval": 0
     }
    },
    "colab_type": "code",
    "id": "Q1ulAtCdEpu3"
   },
   "outputs": [],
   "source": []
  }
 ],
 "metadata": {
  "colab": {
   "default_view": {},
   "name": "Pandas e Futebol.ipynb",
   "provenance": [],
   "version": "0.3.2",
   "views": {}
  },
  "kernelspec": {
   "display_name": "Python 3",
   "language": "python",
   "name": "python3"
  },
  "language_info": {
   "codemirror_mode": {
    "name": "ipython",
    "version": 3
   },
   "file_extension": ".py",
   "mimetype": "text/x-python",
   "name": "python",
   "nbconvert_exporter": "python",
   "pygments_lexer": "ipython3",
   "version": "3.7.3"
  }
 },
 "nbformat": 4,
 "nbformat_minor": 1
}
